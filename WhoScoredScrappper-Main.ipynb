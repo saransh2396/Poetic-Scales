{
 "cells": [
  {
   "cell_type": "code",
   "execution_count": 1,
   "id": "bb9aa485",
   "metadata": {},
   "outputs": [
    {
     "data": {
      "text/html": [
       "<pre style=\"white-space:pre;overflow-x:auto;line-height:normal;font-family:Menlo,'DejaVu Sans Mono',consolas,'Courier New',monospace\"><span style=\"color: #7fbfbf; text-decoration-color: #7fbfbf\">[09/19/23 15:53:36] </span><span style=\"color: #000080; text-decoration-color: #000080\">INFO    </span> No custom team name replacements found. You can configure these in       <a href=\"file://C:\\Users\\saransh.s\\Anaconda3\\lib\\site-packages\\soccerdata\\_config.py\" target=\"_blank\"><span style=\"color: #7f7f7f; text-decoration-color: #7f7f7f\">_config.py</span></a><span style=\"color: #7f7f7f; text-decoration-color: #7f7f7f\">:</span><a href=\"file://C:\\Users\\saransh.s\\Anaconda3\\lib\\site-packages\\soccerdata\\_config.py#84\" target=\"_blank\"><span style=\"color: #7f7f7f; text-decoration-color: #7f7f7f\">84</span></a>\n",
       "<span style=\"color: #7fbfbf; text-decoration-color: #7fbfbf\">                    </span>         C:\\Users\\saransh.s\\soccerdata\\config\\teamname_replacements.json.         <span style=\"color: #7f7f7f; text-decoration-color: #7f7f7f\">             </span>\n",
       "</pre>\n"
      ],
      "text/plain": [
       "\u001b[2;36m[09/19/23 15:53:36]\u001b[0m\u001b[2;36m \u001b[0m\u001b[34mINFO    \u001b[0m No custom team name replacements found. You can configure these in       \u001b]8;id=787423;file://C:\\Users\\saransh.s\\Anaconda3\\lib\\site-packages\\soccerdata\\_config.py\u001b\\\u001b[2m_config.py\u001b[0m\u001b]8;;\u001b\\\u001b[2m:\u001b[0m\u001b]8;id=966049;file://C:\\Users\\saransh.s\\Anaconda3\\lib\\site-packages\\soccerdata\\_config.py#84\u001b\\\u001b[2m84\u001b[0m\u001b]8;;\u001b\\\n",
       "\u001b[2;36m                    \u001b[0m         C:\\Users\\saransh.s\\soccerdata\\config\\teamname_replacements.json.         \u001b[2m             \u001b[0m\n"
      ]
     },
     "metadata": {},
     "output_type": "display_data"
    },
    {
     "data": {
      "text/html": [
       "<pre style=\"white-space:pre;overflow-x:auto;line-height:normal;font-family:Menlo,'DejaVu Sans Mono',consolas,'Courier New',monospace\"><span style=\"color: #7fbfbf; text-decoration-color: #7fbfbf\">                    </span><span style=\"color: #000080; text-decoration-color: #000080\">INFO    </span> No custom league dict found. You can configure additional leagues in    <a href=\"file://C:\\Users\\saransh.s\\Anaconda3\\lib\\site-packages\\soccerdata\\_config.py\" target=\"_blank\"><span style=\"color: #7f7f7f; text-decoration-color: #7f7f7f\">_config.py</span></a><span style=\"color: #7f7f7f; text-decoration-color: #7f7f7f\">:</span><a href=\"file://C:\\Users\\saransh.s\\Anaconda3\\lib\\site-packages\\soccerdata\\_config.py#173\" target=\"_blank\"><span style=\"color: #7f7f7f; text-decoration-color: #7f7f7f\">173</span></a>\n",
       "<span style=\"color: #7fbfbf; text-decoration-color: #7fbfbf\">                    </span>         C:\\Users\\saransh.s\\soccerdata\\config\\league_dict.json.                  <span style=\"color: #7f7f7f; text-decoration-color: #7f7f7f\">              </span>\n",
       "</pre>\n"
      ],
      "text/plain": [
       "\u001b[2;36m                   \u001b[0m\u001b[2;36m \u001b[0m\u001b[34mINFO    \u001b[0m No custom league dict found. You can configure additional leagues in    \u001b]8;id=648278;file://C:\\Users\\saransh.s\\Anaconda3\\lib\\site-packages\\soccerdata\\_config.py\u001b\\\u001b[2m_config.py\u001b[0m\u001b]8;;\u001b\\\u001b[2m:\u001b[0m\u001b]8;id=32619;file://C:\\Users\\saransh.s\\Anaconda3\\lib\\site-packages\\soccerdata\\_config.py#173\u001b\\\u001b[2m173\u001b[0m\u001b]8;;\u001b\\\n",
       "\u001b[2;36m                    \u001b[0m         C:\\Users\\saransh.s\\soccerdata\\config\\league_dict.json.                  \u001b[2m              \u001b[0m\n"
      ]
     },
     "metadata": {},
     "output_type": "display_data"
    }
   ],
   "source": [
    "import soccerdata as sd\n",
    "import pandas as pd \n",
    "import numpy as np\n",
    "import warnings\n",
    "warnings.filterwarnings('ignore')\n",
    "pd.set_option(\"display.max_columns\", None)\n",
    "import os"
   ]
  },
  {
   "cell_type": "code",
   "execution_count": 2,
   "id": "d057c871",
   "metadata": {},
   "outputs": [],
   "source": [
    "# ['ENG-Premier League',\n",
    "#  'ESP-La Liga',\n",
    "#  'FRA-Ligue 1',\n",
    "#  'GER-Bundesliga',\n",
    "#  'INT-World Cup',\n",
    "#  'ITA-Serie A']"
   ]
  },
  {
   "cell_type": "code",
   "execution_count": 3,
   "id": "8194c423",
   "metadata": {},
   "outputs": [],
   "source": [
    "#league,season = 'ENG-Premier League','09-10'\n",
    "#date_from = '2004-08-06 00:00:00'\n",
    "#date_till = '2004-08-20 00:00:00'"
   ]
  },
  {
   "cell_type": "code",
   "execution_count": 4,
   "id": "cc93434d",
   "metadata": {},
   "outputs": [],
   "source": [
    "league = 'ENG-Premier League'"
   ]
  },
  {
   "cell_type": "code",
   "execution_count": 5,
   "id": "5ed7f3e7",
   "metadata": {},
   "outputs": [],
   "source": [
    "season = ['09-10','10-11','11-12','12-13','13-14','14-15','15-16','16-17','17-18','18-19','19-20','20-21','21-22']"
   ]
  },
  {
   "cell_type": "code",
   "execution_count": 6,
   "id": "cae2868f",
   "metadata": {},
   "outputs": [],
   "source": [
    "comp_dir = f\"C:/Users/abint/Football Analysis/Data/{league}_{season}\"\n",
    "data_dir = f\"C:/Users/abint/Football Analysis/Data/{league}_{season}/event_data\""
   ]
  },
  {
   "cell_type": "code",
   "execution_count": 7,
   "id": "68ddd62c",
   "metadata": {},
   "outputs": [],
   "source": [
    "if not os.path.exists(comp_dir):\n",
    "    os.mkdir(comp_dir)\n",
    "    \n",
    "if not os.path.exists(data_dir):\n",
    "    os.mkdir(data_dir)\n",
    "    \n",
    "    os.chdir(comp_dir)\n",
    "    "
   ]
  },
  {
   "cell_type": "code",
   "execution_count": null,
   "id": "0a269c47",
   "metadata": {},
   "outputs": [
    {
     "data": {
      "text/html": [
       "<pre style=\"white-space:pre;overflow-x:auto;line-height:normal;font-family:Menlo,'DejaVu Sans Mono',consolas,'Courier New',monospace\"><span style=\"color: #7fbfbf; text-decoration-color: #7fbfbf\">[09/08/23 16:25:42] </span><span style=\"color: #000080; text-decoration-color: #000080\">INFO    </span> Saving cached data to C:\\Users\\abint\\soccerdata\\data\\WhoScored           <a href=\"file://C:\\Users\\abint\\anaconda3\\lib\\site-packages\\soccerdata\\_common.py\" target=\"_blank\"><span style=\"color: #7f7f7f; text-decoration-color: #7f7f7f\">_common.py</span></a><span style=\"color: #7f7f7f; text-decoration-color: #7f7f7f\">:</span><a href=\"file://C:\\Users\\abint\\anaconda3\\lib\\site-packages\\soccerdata\\_common.py#89\" target=\"_blank\"><span style=\"color: #7f7f7f; text-decoration-color: #7f7f7f\">89</span></a>\n",
       "</pre>\n"
      ],
      "text/plain": [
       "\u001b[2;36m[09/08/23 16:25:42]\u001b[0m\u001b[2;36m \u001b[0m\u001b[34mINFO    \u001b[0m Saving cached data to C:\\Users\\abint\\soccerdata\\data\\WhoScored           \u001b]8;id=820303;file://C:\\Users\\abint\\anaconda3\\lib\\site-packages\\soccerdata\\_common.py\u001b\\\u001b[2m_common.py\u001b[0m\u001b]8;;\u001b\\\u001b[2m:\u001b[0m\u001b]8;id=180609;file://C:\\Users\\abint\\anaconda3\\lib\\site-packages\\soccerdata\\_common.py#89\u001b\\\u001b[2m89\u001b[0m\u001b]8;;\u001b\\\n"
      ]
     },
     "metadata": {},
     "output_type": "display_data"
    },
    {
     "data": {
      "text/html": [
       "<pre style=\"white-space:pre;overflow-x:auto;line-height:normal;font-family:Menlo,'DejaVu Sans Mono',consolas,'Courier New',monospace\"><span style=\"color: #7fbfbf; text-decoration-color: #7fbfbf\">[09/08/23 16:26:01] </span><span style=\"color: #000080; text-decoration-color: #000080\">INFO    </span> Scraping game schedule from                                           <a href=\"file://C:\\Users\\abint\\anaconda3\\lib\\site-packages\\soccerdata\\whoscored.py\" target=\"_blank\"><span style=\"color: #7f7f7f; text-decoration-color: #7f7f7f\">whoscored.py</span></a><span style=\"color: #7f7f7f; text-decoration-color: #7f7f7f\">:</span><a href=\"file://C:\\Users\\abint\\anaconda3\\lib\\site-packages\\soccerdata\\whoscored.py#424\" target=\"_blank\"><span style=\"color: #7f7f7f; text-decoration-color: #7f7f7f\">424</span></a>\n",
       "<span style=\"color: #7fbfbf; text-decoration-color: #7fbfbf\">                    </span>         <span style=\"color: #0000ff; text-decoration-color: #0000ff; text-decoration: underline\">https://www.whoscored.com/Regions/252/Tournaments/2/Seasons/1849/Engl</span> <span style=\"color: #7f7f7f; text-decoration-color: #7f7f7f\">                </span>\n",
       "<span style=\"color: #7fbfbf; text-decoration-color: #7fbfbf\">                    </span>         <span style=\"color: #0000ff; text-decoration-color: #0000ff; text-decoration: underline\">and-Premier-League</span>                                                    <span style=\"color: #7f7f7f; text-decoration-color: #7f7f7f\">                </span>\n",
       "</pre>\n"
      ],
      "text/plain": [
       "\u001b[2;36m[09/08/23 16:26:01]\u001b[0m\u001b[2;36m \u001b[0m\u001b[34mINFO    \u001b[0m Scraping game schedule from                                           \u001b]8;id=872114;file://C:\\Users\\abint\\anaconda3\\lib\\site-packages\\soccerdata\\whoscored.py\u001b\\\u001b[2mwhoscored.py\u001b[0m\u001b]8;;\u001b\\\u001b[2m:\u001b[0m\u001b]8;id=221538;file://C:\\Users\\abint\\anaconda3\\lib\\site-packages\\soccerdata\\whoscored.py#424\u001b\\\u001b[2m424\u001b[0m\u001b]8;;\u001b\\\n",
       "\u001b[2;36m                    \u001b[0m         \u001b[4;94mhttps://www.whoscored.com/Regions/252/Tournaments/2/Seasons/1849/Engl\u001b[0m \u001b[2m                \u001b[0m\n",
       "\u001b[2;36m                    \u001b[0m         \u001b[4;94mand-Premier-League\u001b[0m                                                    \u001b[2m                \u001b[0m\n"
      ]
     },
     "metadata": {},
     "output_type": "display_data"
    },
    {
     "data": {
      "text/html": [
       "<pre style=\"white-space:pre;overflow-x:auto;line-height:normal;font-family:Menlo,'DejaVu Sans Mono',consolas,'Courier New',monospace\"><span style=\"color: #7fbfbf; text-decoration-color: #7fbfbf\">[09/08/23 16:26:02] </span><span style=\"color: #000080; text-decoration-color: #000080\">INFO    </span> Scraping game schedule for Jumamosi, Mei <span style=\"color: #008080; text-decoration-color: #008080; font-weight: bold\">1</span> <span style=\"color: #008080; text-decoration-color: #008080; font-weight: bold\">2010</span>                       <a href=\"file://C:\\Users\\abint\\anaconda3\\lib\\site-packages\\soccerdata\\whoscored.py\" target=\"_blank\"><span style=\"color: #7f7f7f; text-decoration-color: #7f7f7f\">whoscored.py</span></a><span style=\"color: #7f7f7f; text-decoration-color: #7f7f7f\">:</span><a href=\"file://C:\\Users\\abint\\anaconda3\\lib\\site-packages\\soccerdata\\whoscored.py#324\" target=\"_blank\"><span style=\"color: #7f7f7f; text-decoration-color: #7f7f7f\">324</span></a>\n",
       "</pre>\n"
      ],
      "text/plain": [
       "\u001b[2;36m[09/08/23 16:26:02]\u001b[0m\u001b[2;36m \u001b[0m\u001b[34mINFO    \u001b[0m Scraping game schedule for Jumamosi, Mei \u001b[1;36m1\u001b[0m \u001b[1;36m2010\u001b[0m                       \u001b]8;id=840312;file://C:\\Users\\abint\\anaconda3\\lib\\site-packages\\soccerdata\\whoscored.py\u001b\\\u001b[2mwhoscored.py\u001b[0m\u001b]8;;\u001b\\\u001b[2m:\u001b[0m\u001b]8;id=499476;file://C:\\Users\\abint\\anaconda3\\lib\\site-packages\\soccerdata\\whoscored.py#324\u001b\\\u001b[2m324\u001b[0m\u001b]8;;\u001b\\\n"
      ]
     },
     "metadata": {},
     "output_type": "display_data"
    },
    {
     "data": {
      "text/html": [
       "<pre style=\"white-space:pre;overflow-x:auto;line-height:normal;font-family:Menlo,'DejaVu Sans Mono',consolas,'Courier New',monospace\"><span style=\"color: #7fbfbf; text-decoration-color: #7fbfbf\">[09/08/23 16:26:03] </span><span style=\"color: #000080; text-decoration-color: #000080\">INFO    </span> Scraping game schedule for Jumapili, Mei <span style=\"color: #008080; text-decoration-color: #008080; font-weight: bold\">2</span> <span style=\"color: #008080; text-decoration-color: #008080; font-weight: bold\">2010</span>                       <a href=\"file://C:\\Users\\abint\\anaconda3\\lib\\site-packages\\soccerdata\\whoscored.py\" target=\"_blank\"><span style=\"color: #7f7f7f; text-decoration-color: #7f7f7f\">whoscored.py</span></a><span style=\"color: #7f7f7f; text-decoration-color: #7f7f7f\">:</span><a href=\"file://C:\\Users\\abint\\anaconda3\\lib\\site-packages\\soccerdata\\whoscored.py#324\" target=\"_blank\"><span style=\"color: #7f7f7f; text-decoration-color: #7f7f7f\">324</span></a>\n",
       "</pre>\n"
      ],
      "text/plain": [
       "\u001b[2;36m[09/08/23 16:26:03]\u001b[0m\u001b[2;36m \u001b[0m\u001b[34mINFO    \u001b[0m Scraping game schedule for Jumapili, Mei \u001b[1;36m2\u001b[0m \u001b[1;36m2010\u001b[0m                       \u001b]8;id=59083;file://C:\\Users\\abint\\anaconda3\\lib\\site-packages\\soccerdata\\whoscored.py\u001b\\\u001b[2mwhoscored.py\u001b[0m\u001b]8;;\u001b\\\u001b[2m:\u001b[0m\u001b]8;id=437499;file://C:\\Users\\abint\\anaconda3\\lib\\site-packages\\soccerdata\\whoscored.py#324\u001b\\\u001b[2m324\u001b[0m\u001b]8;;\u001b\\\n"
      ]
     },
     "metadata": {},
     "output_type": "display_data"
    },
    {
     "data": {
      "text/html": [
       "<pre style=\"white-space:pre;overflow-x:auto;line-height:normal;font-family:Menlo,'DejaVu Sans Mono',consolas,'Courier New',monospace\"><span style=\"color: #7fbfbf; text-decoration-color: #7fbfbf\">[09/08/23 16:26:04] </span><span style=\"color: #000080; text-decoration-color: #000080\">INFO    </span> Scraping game schedule for Jumatatu, Mei <span style=\"color: #008080; text-decoration-color: #008080; font-weight: bold\">3</span> <span style=\"color: #008080; text-decoration-color: #008080; font-weight: bold\">2010</span>                       <a href=\"file://C:\\Users\\abint\\anaconda3\\lib\\site-packages\\soccerdata\\whoscored.py\" target=\"_blank\"><span style=\"color: #7f7f7f; text-decoration-color: #7f7f7f\">whoscored.py</span></a><span style=\"color: #7f7f7f; text-decoration-color: #7f7f7f\">:</span><a href=\"file://C:\\Users\\abint\\anaconda3\\lib\\site-packages\\soccerdata\\whoscored.py#324\" target=\"_blank\"><span style=\"color: #7f7f7f; text-decoration-color: #7f7f7f\">324</span></a>\n",
       "</pre>\n"
      ],
      "text/plain": [
       "\u001b[2;36m[09/08/23 16:26:04]\u001b[0m\u001b[2;36m \u001b[0m\u001b[34mINFO    \u001b[0m Scraping game schedule for Jumatatu, Mei \u001b[1;36m3\u001b[0m \u001b[1;36m2010\u001b[0m                       \u001b]8;id=869812;file://C:\\Users\\abint\\anaconda3\\lib\\site-packages\\soccerdata\\whoscored.py\u001b\\\u001b[2mwhoscored.py\u001b[0m\u001b]8;;\u001b\\\u001b[2m:\u001b[0m\u001b]8;id=371216;file://C:\\Users\\abint\\anaconda3\\lib\\site-packages\\soccerdata\\whoscored.py#324\u001b\\\u001b[2m324\u001b[0m\u001b]8;;\u001b\\\n"
      ]
     },
     "metadata": {},
     "output_type": "display_data"
    },
    {
     "data": {
      "text/html": [
       "<pre style=\"white-space:pre;overflow-x:auto;line-height:normal;font-family:Menlo,'DejaVu Sans Mono',consolas,'Courier New',monospace\"><span style=\"color: #7fbfbf; text-decoration-color: #7fbfbf\">                    </span><span style=\"color: #000080; text-decoration-color: #000080\">INFO    </span> Scraping game schedule for Jumatano, Mei <span style=\"color: #008080; text-decoration-color: #008080; font-weight: bold\">5</span> <span style=\"color: #008080; text-decoration-color: #008080; font-weight: bold\">2010</span>                       <a href=\"file://C:\\Users\\abint\\anaconda3\\lib\\site-packages\\soccerdata\\whoscored.py\" target=\"_blank\"><span style=\"color: #7f7f7f; text-decoration-color: #7f7f7f\">whoscored.py</span></a><span style=\"color: #7f7f7f; text-decoration-color: #7f7f7f\">:</span><a href=\"file://C:\\Users\\abint\\anaconda3\\lib\\site-packages\\soccerdata\\whoscored.py#324\" target=\"_blank\"><span style=\"color: #7f7f7f; text-decoration-color: #7f7f7f\">324</span></a>\n",
       "</pre>\n"
      ],
      "text/plain": [
       "\u001b[2;36m                   \u001b[0m\u001b[2;36m \u001b[0m\u001b[34mINFO    \u001b[0m Scraping game schedule for Jumatano, Mei \u001b[1;36m5\u001b[0m \u001b[1;36m2010\u001b[0m                       \u001b]8;id=648132;file://C:\\Users\\abint\\anaconda3\\lib\\site-packages\\soccerdata\\whoscored.py\u001b\\\u001b[2mwhoscored.py\u001b[0m\u001b]8;;\u001b\\\u001b[2m:\u001b[0m\u001b]8;id=139568;file://C:\\Users\\abint\\anaconda3\\lib\\site-packages\\soccerdata\\whoscored.py#324\u001b\\\u001b[2m324\u001b[0m\u001b]8;;\u001b\\\n"
      ]
     },
     "metadata": {},
     "output_type": "display_data"
    },
    {
     "data": {
      "text/html": [
       "<pre style=\"white-space:pre;overflow-x:auto;line-height:normal;font-family:Menlo,'DejaVu Sans Mono',consolas,'Courier New',monospace\"><span style=\"color: #7fbfbf; text-decoration-color: #7fbfbf\">[09/08/23 16:26:05] </span><span style=\"color: #000080; text-decoration-color: #000080\">INFO    </span> Scraping game schedule for Jumapili, Mei <span style=\"color: #008080; text-decoration-color: #008080; font-weight: bold\">9</span> <span style=\"color: #008080; text-decoration-color: #008080; font-weight: bold\">2010</span>                       <a href=\"file://C:\\Users\\abint\\anaconda3\\lib\\site-packages\\soccerdata\\whoscored.py\" target=\"_blank\"><span style=\"color: #7f7f7f; text-decoration-color: #7f7f7f\">whoscored.py</span></a><span style=\"color: #7f7f7f; text-decoration-color: #7f7f7f\">:</span><a href=\"file://C:\\Users\\abint\\anaconda3\\lib\\site-packages\\soccerdata\\whoscored.py#324\" target=\"_blank\"><span style=\"color: #7f7f7f; text-decoration-color: #7f7f7f\">324</span></a>\n",
       "</pre>\n"
      ],
      "text/plain": [
       "\u001b[2;36m[09/08/23 16:26:05]\u001b[0m\u001b[2;36m \u001b[0m\u001b[34mINFO    \u001b[0m Scraping game schedule for Jumapili, Mei \u001b[1;36m9\u001b[0m \u001b[1;36m2010\u001b[0m                       \u001b]8;id=708450;file://C:\\Users\\abint\\anaconda3\\lib\\site-packages\\soccerdata\\whoscored.py\u001b\\\u001b[2mwhoscored.py\u001b[0m\u001b]8;;\u001b\\\u001b[2m:\u001b[0m\u001b]8;id=161816;file://C:\\Users\\abint\\anaconda3\\lib\\site-packages\\soccerdata\\whoscored.py#324\u001b\\\u001b[2m324\u001b[0m\u001b]8;;\u001b\\\n"
      ]
     },
     "metadata": {},
     "output_type": "display_data"
    },
    {
     "data": {
      "text/html": [
       "<pre style=\"white-space:pre;overflow-x:auto;line-height:normal;font-family:Menlo,'DejaVu Sans Mono',consolas,'Courier New',monospace\"><span style=\"color: #7fbfbf; text-decoration-color: #7fbfbf\">[09/08/23 16:26:12] </span><span style=\"color: #000080; text-decoration-color: #000080\">INFO    </span> Scraping game schedule for Jumamosi, Apr <span style=\"color: #008080; text-decoration-color: #008080; font-weight: bold\">3</span> <span style=\"color: #008080; text-decoration-color: #008080; font-weight: bold\">2010</span>                       <a href=\"file://C:\\Users\\abint\\anaconda3\\lib\\site-packages\\soccerdata\\whoscored.py\" target=\"_blank\"><span style=\"color: #7f7f7f; text-decoration-color: #7f7f7f\">whoscored.py</span></a><span style=\"color: #7f7f7f; text-decoration-color: #7f7f7f\">:</span><a href=\"file://C:\\Users\\abint\\anaconda3\\lib\\site-packages\\soccerdata\\whoscored.py#324\" target=\"_blank\"><span style=\"color: #7f7f7f; text-decoration-color: #7f7f7f\">324</span></a>\n",
       "</pre>\n"
      ],
      "text/plain": [
       "\u001b[2;36m[09/08/23 16:26:12]\u001b[0m\u001b[2;36m \u001b[0m\u001b[34mINFO    \u001b[0m Scraping game schedule for Jumamosi, Apr \u001b[1;36m3\u001b[0m \u001b[1;36m2010\u001b[0m                       \u001b]8;id=203260;file://C:\\Users\\abint\\anaconda3\\lib\\site-packages\\soccerdata\\whoscored.py\u001b\\\u001b[2mwhoscored.py\u001b[0m\u001b]8;;\u001b\\\u001b[2m:\u001b[0m\u001b]8;id=365357;file://C:\\Users\\abint\\anaconda3\\lib\\site-packages\\soccerdata\\whoscored.py#324\u001b\\\u001b[2m324\u001b[0m\u001b]8;;\u001b\\\n"
      ]
     },
     "metadata": {},
     "output_type": "display_data"
    },
    {
     "data": {
      "text/html": [
       "<pre style=\"white-space:pre;overflow-x:auto;line-height:normal;font-family:Menlo,'DejaVu Sans Mono',consolas,'Courier New',monospace\"><span style=\"color: #7fbfbf; text-decoration-color: #7fbfbf\">[09/08/23 16:26:13] </span><span style=\"color: #000080; text-decoration-color: #000080\">INFO    </span> Scraping game schedule for Jumapili, Apr <span style=\"color: #008080; text-decoration-color: #008080; font-weight: bold\">4</span> <span style=\"color: #008080; text-decoration-color: #008080; font-weight: bold\">2010</span>                       <a href=\"file://C:\\Users\\abint\\anaconda3\\lib\\site-packages\\soccerdata\\whoscored.py\" target=\"_blank\"><span style=\"color: #7f7f7f; text-decoration-color: #7f7f7f\">whoscored.py</span></a><span style=\"color: #7f7f7f; text-decoration-color: #7f7f7f\">:</span><a href=\"file://C:\\Users\\abint\\anaconda3\\lib\\site-packages\\soccerdata\\whoscored.py#324\" target=\"_blank\"><span style=\"color: #7f7f7f; text-decoration-color: #7f7f7f\">324</span></a>\n",
       "</pre>\n"
      ],
      "text/plain": [
       "\u001b[2;36m[09/08/23 16:26:13]\u001b[0m\u001b[2;36m \u001b[0m\u001b[34mINFO    \u001b[0m Scraping game schedule for Jumapili, Apr \u001b[1;36m4\u001b[0m \u001b[1;36m2010\u001b[0m                       \u001b]8;id=721999;file://C:\\Users\\abint\\anaconda3\\lib\\site-packages\\soccerdata\\whoscored.py\u001b\\\u001b[2mwhoscored.py\u001b[0m\u001b]8;;\u001b\\\u001b[2m:\u001b[0m\u001b]8;id=944569;file://C:\\Users\\abint\\anaconda3\\lib\\site-packages\\soccerdata\\whoscored.py#324\u001b\\\u001b[2m324\u001b[0m\u001b]8;;\u001b\\\n"
      ]
     },
     "metadata": {},
     "output_type": "display_data"
    },
    {
     "data": {
      "text/html": [
       "<pre style=\"white-space:pre;overflow-x:auto;line-height:normal;font-family:Menlo,'DejaVu Sans Mono',consolas,'Courier New',monospace\"><span style=\"color: #7fbfbf; text-decoration-color: #7fbfbf\">                    </span><span style=\"color: #000080; text-decoration-color: #000080\">INFO    </span> Scraping game schedule for Jumamosi, Apr <span style=\"color: #008080; text-decoration-color: #008080; font-weight: bold\">10</span> <span style=\"color: #008080; text-decoration-color: #008080; font-weight: bold\">2010</span>                      <a href=\"file://C:\\Users\\abint\\anaconda3\\lib\\site-packages\\soccerdata\\whoscored.py\" target=\"_blank\"><span style=\"color: #7f7f7f; text-decoration-color: #7f7f7f\">whoscored.py</span></a><span style=\"color: #7f7f7f; text-decoration-color: #7f7f7f\">:</span><a href=\"file://C:\\Users\\abint\\anaconda3\\lib\\site-packages\\soccerdata\\whoscored.py#324\" target=\"_blank\"><span style=\"color: #7f7f7f; text-decoration-color: #7f7f7f\">324</span></a>\n",
       "</pre>\n"
      ],
      "text/plain": [
       "\u001b[2;36m                   \u001b[0m\u001b[2;36m \u001b[0m\u001b[34mINFO    \u001b[0m Scraping game schedule for Jumamosi, Apr \u001b[1;36m10\u001b[0m \u001b[1;36m2010\u001b[0m                      \u001b]8;id=328223;file://C:\\Users\\abint\\anaconda3\\lib\\site-packages\\soccerdata\\whoscored.py\u001b\\\u001b[2mwhoscored.py\u001b[0m\u001b]8;;\u001b\\\u001b[2m:\u001b[0m\u001b]8;id=106685;file://C:\\Users\\abint\\anaconda3\\lib\\site-packages\\soccerdata\\whoscored.py#324\u001b\\\u001b[2m324\u001b[0m\u001b]8;;\u001b\\\n"
      ]
     },
     "metadata": {},
     "output_type": "display_data"
    },
    {
     "data": {
      "text/html": [
       "<pre style=\"white-space:pre;overflow-x:auto;line-height:normal;font-family:Menlo,'DejaVu Sans Mono',consolas,'Courier New',monospace\"><span style=\"color: #7fbfbf; text-decoration-color: #7fbfbf\">[09/08/23 16:26:14] </span><span style=\"color: #000080; text-decoration-color: #000080\">INFO    </span> Scraping game schedule for Jumapili, Apr <span style=\"color: #008080; text-decoration-color: #008080; font-weight: bold\">11</span> <span style=\"color: #008080; text-decoration-color: #008080; font-weight: bold\">2010</span>                      <a href=\"file://C:\\Users\\abint\\anaconda3\\lib\\site-packages\\soccerdata\\whoscored.py\" target=\"_blank\"><span style=\"color: #7f7f7f; text-decoration-color: #7f7f7f\">whoscored.py</span></a><span style=\"color: #7f7f7f; text-decoration-color: #7f7f7f\">:</span><a href=\"file://C:\\Users\\abint\\anaconda3\\lib\\site-packages\\soccerdata\\whoscored.py#324\" target=\"_blank\"><span style=\"color: #7f7f7f; text-decoration-color: #7f7f7f\">324</span></a>\n",
       "</pre>\n"
      ],
      "text/plain": [
       "\u001b[2;36m[09/08/23 16:26:14]\u001b[0m\u001b[2;36m \u001b[0m\u001b[34mINFO    \u001b[0m Scraping game schedule for Jumapili, Apr \u001b[1;36m11\u001b[0m \u001b[1;36m2010\u001b[0m                      \u001b]8;id=879934;file://C:\\Users\\abint\\anaconda3\\lib\\site-packages\\soccerdata\\whoscored.py\u001b\\\u001b[2mwhoscored.py\u001b[0m\u001b]8;;\u001b\\\u001b[2m:\u001b[0m\u001b]8;id=840650;file://C:\\Users\\abint\\anaconda3\\lib\\site-packages\\soccerdata\\whoscored.py#324\u001b\\\u001b[2m324\u001b[0m\u001b]8;;\u001b\\\n"
      ]
     },
     "metadata": {},
     "output_type": "display_data"
    },
    {
     "data": {
      "text/html": [
       "<pre style=\"white-space:pre;overflow-x:auto;line-height:normal;font-family:Menlo,'DejaVu Sans Mono',consolas,'Courier New',monospace\"><span style=\"color: #7fbfbf; text-decoration-color: #7fbfbf\">                    </span><span style=\"color: #000080; text-decoration-color: #000080\">INFO    </span> Scraping game schedule for Jumanne, Apr <span style=\"color: #008080; text-decoration-color: #008080; font-weight: bold\">13</span> <span style=\"color: #008080; text-decoration-color: #008080; font-weight: bold\">2010</span>                       <a href=\"file://C:\\Users\\abint\\anaconda3\\lib\\site-packages\\soccerdata\\whoscored.py\" target=\"_blank\"><span style=\"color: #7f7f7f; text-decoration-color: #7f7f7f\">whoscored.py</span></a><span style=\"color: #7f7f7f; text-decoration-color: #7f7f7f\">:</span><a href=\"file://C:\\Users\\abint\\anaconda3\\lib\\site-packages\\soccerdata\\whoscored.py#324\" target=\"_blank\"><span style=\"color: #7f7f7f; text-decoration-color: #7f7f7f\">324</span></a>\n",
       "</pre>\n"
      ],
      "text/plain": [
       "\u001b[2;36m                   \u001b[0m\u001b[2;36m \u001b[0m\u001b[34mINFO    \u001b[0m Scraping game schedule for Jumanne, Apr \u001b[1;36m13\u001b[0m \u001b[1;36m2010\u001b[0m                       \u001b]8;id=464322;file://C:\\Users\\abint\\anaconda3\\lib\\site-packages\\soccerdata\\whoscored.py\u001b\\\u001b[2mwhoscored.py\u001b[0m\u001b]8;;\u001b\\\u001b[2m:\u001b[0m\u001b]8;id=758133;file://C:\\Users\\abint\\anaconda3\\lib\\site-packages\\soccerdata\\whoscored.py#324\u001b\\\u001b[2m324\u001b[0m\u001b]8;;\u001b\\\n"
      ]
     },
     "metadata": {},
     "output_type": "display_data"
    },
    {
     "data": {
      "text/html": [
       "<pre style=\"white-space:pre;overflow-x:auto;line-height:normal;font-family:Menlo,'DejaVu Sans Mono',consolas,'Courier New',monospace\"><span style=\"color: #7fbfbf; text-decoration-color: #7fbfbf\">[09/08/23 16:26:15] </span><span style=\"color: #000080; text-decoration-color: #000080\">INFO    </span> Scraping game schedule for Jumatano, Apr <span style=\"color: #008080; text-decoration-color: #008080; font-weight: bold\">14</span> <span style=\"color: #008080; text-decoration-color: #008080; font-weight: bold\">2010</span>                      <a href=\"file://C:\\Users\\abint\\anaconda3\\lib\\site-packages\\soccerdata\\whoscored.py\" target=\"_blank\"><span style=\"color: #7f7f7f; text-decoration-color: #7f7f7f\">whoscored.py</span></a><span style=\"color: #7f7f7f; text-decoration-color: #7f7f7f\">:</span><a href=\"file://C:\\Users\\abint\\anaconda3\\lib\\site-packages\\soccerdata\\whoscored.py#324\" target=\"_blank\"><span style=\"color: #7f7f7f; text-decoration-color: #7f7f7f\">324</span></a>\n",
       "</pre>\n"
      ],
      "text/plain": [
       "\u001b[2;36m[09/08/23 16:26:15]\u001b[0m\u001b[2;36m \u001b[0m\u001b[34mINFO    \u001b[0m Scraping game schedule for Jumatano, Apr \u001b[1;36m14\u001b[0m \u001b[1;36m2010\u001b[0m                      \u001b]8;id=727685;file://C:\\Users\\abint\\anaconda3\\lib\\site-packages\\soccerdata\\whoscored.py\u001b\\\u001b[2mwhoscored.py\u001b[0m\u001b]8;;\u001b\\\u001b[2m:\u001b[0m\u001b]8;id=669773;file://C:\\Users\\abint\\anaconda3\\lib\\site-packages\\soccerdata\\whoscored.py#324\u001b\\\u001b[2m324\u001b[0m\u001b]8;;\u001b\\\n"
      ]
     },
     "metadata": {},
     "output_type": "display_data"
    },
    {
     "data": {
      "text/html": [
       "<pre style=\"white-space:pre;overflow-x:auto;line-height:normal;font-family:Menlo,'DejaVu Sans Mono',consolas,'Courier New',monospace\"><span style=\"color: #7fbfbf; text-decoration-color: #7fbfbf\">                    </span><span style=\"color: #000080; text-decoration-color: #000080\">INFO    </span> Scraping game schedule for Jumamosi, Apr <span style=\"color: #008080; text-decoration-color: #008080; font-weight: bold\">17</span> <span style=\"color: #008080; text-decoration-color: #008080; font-weight: bold\">2010</span>                      <a href=\"file://C:\\Users\\abint\\anaconda3\\lib\\site-packages\\soccerdata\\whoscored.py\" target=\"_blank\"><span style=\"color: #7f7f7f; text-decoration-color: #7f7f7f\">whoscored.py</span></a><span style=\"color: #7f7f7f; text-decoration-color: #7f7f7f\">:</span><a href=\"file://C:\\Users\\abint\\anaconda3\\lib\\site-packages\\soccerdata\\whoscored.py#324\" target=\"_blank\"><span style=\"color: #7f7f7f; text-decoration-color: #7f7f7f\">324</span></a>\n",
       "</pre>\n"
      ],
      "text/plain": [
       "\u001b[2;36m                   \u001b[0m\u001b[2;36m \u001b[0m\u001b[34mINFO    \u001b[0m Scraping game schedule for Jumamosi, Apr \u001b[1;36m17\u001b[0m \u001b[1;36m2010\u001b[0m                      \u001b]8;id=959524;file://C:\\Users\\abint\\anaconda3\\lib\\site-packages\\soccerdata\\whoscored.py\u001b\\\u001b[2mwhoscored.py\u001b[0m\u001b]8;;\u001b\\\u001b[2m:\u001b[0m\u001b]8;id=669193;file://C:\\Users\\abint\\anaconda3\\lib\\site-packages\\soccerdata\\whoscored.py#324\u001b\\\u001b[2m324\u001b[0m\u001b]8;;\u001b\\\n"
      ]
     },
     "metadata": {},
     "output_type": "display_data"
    },
    {
     "data": {
      "text/html": [
       "<pre style=\"white-space:pre;overflow-x:auto;line-height:normal;font-family:Menlo,'DejaVu Sans Mono',consolas,'Courier New',monospace\"><span style=\"color: #7fbfbf; text-decoration-color: #7fbfbf\">[09/08/23 16:26:16] </span><span style=\"color: #000080; text-decoration-color: #000080\">INFO    </span> Scraping game schedule for Jumapili, Apr <span style=\"color: #008080; text-decoration-color: #008080; font-weight: bold\">18</span> <span style=\"color: #008080; text-decoration-color: #008080; font-weight: bold\">2010</span>                      <a href=\"file://C:\\Users\\abint\\anaconda3\\lib\\site-packages\\soccerdata\\whoscored.py\" target=\"_blank\"><span style=\"color: #7f7f7f; text-decoration-color: #7f7f7f\">whoscored.py</span></a><span style=\"color: #7f7f7f; text-decoration-color: #7f7f7f\">:</span><a href=\"file://C:\\Users\\abint\\anaconda3\\lib\\site-packages\\soccerdata\\whoscored.py#324\" target=\"_blank\"><span style=\"color: #7f7f7f; text-decoration-color: #7f7f7f\">324</span></a>\n",
       "</pre>\n"
      ],
      "text/plain": [
       "\u001b[2;36m[09/08/23 16:26:16]\u001b[0m\u001b[2;36m \u001b[0m\u001b[34mINFO    \u001b[0m Scraping game schedule for Jumapili, Apr \u001b[1;36m18\u001b[0m \u001b[1;36m2010\u001b[0m                      \u001b]8;id=846605;file://C:\\Users\\abint\\anaconda3\\lib\\site-packages\\soccerdata\\whoscored.py\u001b\\\u001b[2mwhoscored.py\u001b[0m\u001b]8;;\u001b\\\u001b[2m:\u001b[0m\u001b]8;id=995486;file://C:\\Users\\abint\\anaconda3\\lib\\site-packages\\soccerdata\\whoscored.py#324\u001b\\\u001b[2m324\u001b[0m\u001b]8;;\u001b\\\n"
      ]
     },
     "metadata": {},
     "output_type": "display_data"
    },
    {
     "data": {
      "text/html": [
       "<pre style=\"white-space:pre;overflow-x:auto;line-height:normal;font-family:Menlo,'DejaVu Sans Mono',consolas,'Courier New',monospace\"><span style=\"color: #7fbfbf; text-decoration-color: #7fbfbf\">                    </span><span style=\"color: #000080; text-decoration-color: #000080\">INFO    </span> Scraping game schedule for Jumatatu, Apr <span style=\"color: #008080; text-decoration-color: #008080; font-weight: bold\">19</span> <span style=\"color: #008080; text-decoration-color: #008080; font-weight: bold\">2010</span>                      <a href=\"file://C:\\Users\\abint\\anaconda3\\lib\\site-packages\\soccerdata\\whoscored.py\" target=\"_blank\"><span style=\"color: #7f7f7f; text-decoration-color: #7f7f7f\">whoscored.py</span></a><span style=\"color: #7f7f7f; text-decoration-color: #7f7f7f\">:</span><a href=\"file://C:\\Users\\abint\\anaconda3\\lib\\site-packages\\soccerdata\\whoscored.py#324\" target=\"_blank\"><span style=\"color: #7f7f7f; text-decoration-color: #7f7f7f\">324</span></a>\n",
       "</pre>\n"
      ],
      "text/plain": [
       "\u001b[2;36m                   \u001b[0m\u001b[2;36m \u001b[0m\u001b[34mINFO    \u001b[0m Scraping game schedule for Jumatatu, Apr \u001b[1;36m19\u001b[0m \u001b[1;36m2010\u001b[0m                      \u001b]8;id=839672;file://C:\\Users\\abint\\anaconda3\\lib\\site-packages\\soccerdata\\whoscored.py\u001b\\\u001b[2mwhoscored.py\u001b[0m\u001b]8;;\u001b\\\u001b[2m:\u001b[0m\u001b]8;id=439309;file://C:\\Users\\abint\\anaconda3\\lib\\site-packages\\soccerdata\\whoscored.py#324\u001b\\\u001b[2m324\u001b[0m\u001b]8;;\u001b\\\n"
      ]
     },
     "metadata": {},
     "output_type": "display_data"
    },
    {
     "data": {
      "text/html": [
       "<pre style=\"white-space:pre;overflow-x:auto;line-height:normal;font-family:Menlo,'DejaVu Sans Mono',consolas,'Courier New',monospace\"><span style=\"color: #7fbfbf; text-decoration-color: #7fbfbf\">[09/08/23 16:26:17] </span><span style=\"color: #000080; text-decoration-color: #000080\">INFO    </span> Scraping game schedule for Jumatano, Apr <span style=\"color: #008080; text-decoration-color: #008080; font-weight: bold\">21</span> <span style=\"color: #008080; text-decoration-color: #008080; font-weight: bold\">2010</span>                      <a href=\"file://C:\\Users\\abint\\anaconda3\\lib\\site-packages\\soccerdata\\whoscored.py\" target=\"_blank\"><span style=\"color: #7f7f7f; text-decoration-color: #7f7f7f\">whoscored.py</span></a><span style=\"color: #7f7f7f; text-decoration-color: #7f7f7f\">:</span><a href=\"file://C:\\Users\\abint\\anaconda3\\lib\\site-packages\\soccerdata\\whoscored.py#324\" target=\"_blank\"><span style=\"color: #7f7f7f; text-decoration-color: #7f7f7f\">324</span></a>\n",
       "</pre>\n"
      ],
      "text/plain": [
       "\u001b[2;36m[09/08/23 16:26:17]\u001b[0m\u001b[2;36m \u001b[0m\u001b[34mINFO    \u001b[0m Scraping game schedule for Jumatano, Apr \u001b[1;36m21\u001b[0m \u001b[1;36m2010\u001b[0m                      \u001b]8;id=853595;file://C:\\Users\\abint\\anaconda3\\lib\\site-packages\\soccerdata\\whoscored.py\u001b\\\u001b[2mwhoscored.py\u001b[0m\u001b]8;;\u001b\\\u001b[2m:\u001b[0m\u001b]8;id=748904;file://C:\\Users\\abint\\anaconda3\\lib\\site-packages\\soccerdata\\whoscored.py#324\u001b\\\u001b[2m324\u001b[0m\u001b]8;;\u001b\\\n"
      ]
     },
     "metadata": {},
     "output_type": "display_data"
    },
    {
     "data": {
      "text/html": [
       "<pre style=\"white-space:pre;overflow-x:auto;line-height:normal;font-family:Menlo,'DejaVu Sans Mono',consolas,'Courier New',monospace\"><span style=\"color: #7fbfbf; text-decoration-color: #7fbfbf\">                    </span><span style=\"color: #000080; text-decoration-color: #000080\">INFO    </span> Scraping game schedule for Jumamosi, Apr <span style=\"color: #008080; text-decoration-color: #008080; font-weight: bold\">24</span> <span style=\"color: #008080; text-decoration-color: #008080; font-weight: bold\">2010</span>                      <a href=\"file://C:\\Users\\abint\\anaconda3\\lib\\site-packages\\soccerdata\\whoscored.py\" target=\"_blank\"><span style=\"color: #7f7f7f; text-decoration-color: #7f7f7f\">whoscored.py</span></a><span style=\"color: #7f7f7f; text-decoration-color: #7f7f7f\">:</span><a href=\"file://C:\\Users\\abint\\anaconda3\\lib\\site-packages\\soccerdata\\whoscored.py#324\" target=\"_blank\"><span style=\"color: #7f7f7f; text-decoration-color: #7f7f7f\">324</span></a>\n",
       "</pre>\n"
      ],
      "text/plain": [
       "\u001b[2;36m                   \u001b[0m\u001b[2;36m \u001b[0m\u001b[34mINFO    \u001b[0m Scraping game schedule for Jumamosi, Apr \u001b[1;36m24\u001b[0m \u001b[1;36m2010\u001b[0m                      \u001b]8;id=464324;file://C:\\Users\\abint\\anaconda3\\lib\\site-packages\\soccerdata\\whoscored.py\u001b\\\u001b[2mwhoscored.py\u001b[0m\u001b]8;;\u001b\\\u001b[2m:\u001b[0m\u001b]8;id=41080;file://C:\\Users\\abint\\anaconda3\\lib\\site-packages\\soccerdata\\whoscored.py#324\u001b\\\u001b[2m324\u001b[0m\u001b]8;;\u001b\\\n"
      ]
     },
     "metadata": {},
     "output_type": "display_data"
    },
    {
     "data": {
      "text/html": [
       "<pre style=\"white-space:pre;overflow-x:auto;line-height:normal;font-family:Menlo,'DejaVu Sans Mono',consolas,'Courier New',monospace\"><span style=\"color: #7fbfbf; text-decoration-color: #7fbfbf\">[09/08/23 16:26:18] </span><span style=\"color: #000080; text-decoration-color: #000080\">INFO    </span> Scraping game schedule for Jumapili, Apr <span style=\"color: #008080; text-decoration-color: #008080; font-weight: bold\">25</span> <span style=\"color: #008080; text-decoration-color: #008080; font-weight: bold\">2010</span>                      <a href=\"file://C:\\Users\\abint\\anaconda3\\lib\\site-packages\\soccerdata\\whoscored.py\" target=\"_blank\"><span style=\"color: #7f7f7f; text-decoration-color: #7f7f7f\">whoscored.py</span></a><span style=\"color: #7f7f7f; text-decoration-color: #7f7f7f\">:</span><a href=\"file://C:\\Users\\abint\\anaconda3\\lib\\site-packages\\soccerdata\\whoscored.py#324\" target=\"_blank\"><span style=\"color: #7f7f7f; text-decoration-color: #7f7f7f\">324</span></a>\n",
       "</pre>\n"
      ],
      "text/plain": [
       "\u001b[2;36m[09/08/23 16:26:18]\u001b[0m\u001b[2;36m \u001b[0m\u001b[34mINFO    \u001b[0m Scraping game schedule for Jumapili, Apr \u001b[1;36m25\u001b[0m \u001b[1;36m2010\u001b[0m                      \u001b]8;id=970344;file://C:\\Users\\abint\\anaconda3\\lib\\site-packages\\soccerdata\\whoscored.py\u001b\\\u001b[2mwhoscored.py\u001b[0m\u001b]8;;\u001b\\\u001b[2m:\u001b[0m\u001b]8;id=542817;file://C:\\Users\\abint\\anaconda3\\lib\\site-packages\\soccerdata\\whoscored.py#324\u001b\\\u001b[2m324\u001b[0m\u001b]8;;\u001b\\\n"
      ]
     },
     "metadata": {},
     "output_type": "display_data"
    },
    {
     "data": {
      "text/html": [
       "<pre style=\"white-space:pre;overflow-x:auto;line-height:normal;font-family:Menlo,'DejaVu Sans Mono',consolas,'Courier New',monospace\"><span style=\"color: #7fbfbf; text-decoration-color: #7fbfbf\">[09/08/23 16:26:23] </span><span style=\"color: #000080; text-decoration-color: #000080\">INFO    </span> Scraping game schedule for Jumamosi, Mac <span style=\"color: #008080; text-decoration-color: #008080; font-weight: bold\">6</span> <span style=\"color: #008080; text-decoration-color: #008080; font-weight: bold\">2010</span>                       <a href=\"file://C:\\Users\\abint\\anaconda3\\lib\\site-packages\\soccerdata\\whoscored.py\" target=\"_blank\"><span style=\"color: #7f7f7f; text-decoration-color: #7f7f7f\">whoscored.py</span></a><span style=\"color: #7f7f7f; text-decoration-color: #7f7f7f\">:</span><a href=\"file://C:\\Users\\abint\\anaconda3\\lib\\site-packages\\soccerdata\\whoscored.py#324\" target=\"_blank\"><span style=\"color: #7f7f7f; text-decoration-color: #7f7f7f\">324</span></a>\n",
       "</pre>\n"
      ],
      "text/plain": [
       "\u001b[2;36m[09/08/23 16:26:23]\u001b[0m\u001b[2;36m \u001b[0m\u001b[34mINFO    \u001b[0m Scraping game schedule for Jumamosi, Mac \u001b[1;36m6\u001b[0m \u001b[1;36m2010\u001b[0m                       \u001b]8;id=232759;file://C:\\Users\\abint\\anaconda3\\lib\\site-packages\\soccerdata\\whoscored.py\u001b\\\u001b[2mwhoscored.py\u001b[0m\u001b]8;;\u001b\\\u001b[2m:\u001b[0m\u001b]8;id=63657;file://C:\\Users\\abint\\anaconda3\\lib\\site-packages\\soccerdata\\whoscored.py#324\u001b\\\u001b[2m324\u001b[0m\u001b]8;;\u001b\\\n"
      ]
     },
     "metadata": {},
     "output_type": "display_data"
    },
    {
     "data": {
      "text/html": [
       "<pre style=\"white-space:pre;overflow-x:auto;line-height:normal;font-family:Menlo,'DejaVu Sans Mono',consolas,'Courier New',monospace\"><span style=\"color: #7fbfbf; text-decoration-color: #7fbfbf\">[09/08/23 16:26:24] </span><span style=\"color: #000080; text-decoration-color: #000080\">INFO    </span> Scraping game schedule for Jumapili, Mac <span style=\"color: #008080; text-decoration-color: #008080; font-weight: bold\">7</span> <span style=\"color: #008080; text-decoration-color: #008080; font-weight: bold\">2010</span>                       <a href=\"file://C:\\Users\\abint\\anaconda3\\lib\\site-packages\\soccerdata\\whoscored.py\" target=\"_blank\"><span style=\"color: #7f7f7f; text-decoration-color: #7f7f7f\">whoscored.py</span></a><span style=\"color: #7f7f7f; text-decoration-color: #7f7f7f\">:</span><a href=\"file://C:\\Users\\abint\\anaconda3\\lib\\site-packages\\soccerdata\\whoscored.py#324\" target=\"_blank\"><span style=\"color: #7f7f7f; text-decoration-color: #7f7f7f\">324</span></a>\n",
       "</pre>\n"
      ],
      "text/plain": [
       "\u001b[2;36m[09/08/23 16:26:24]\u001b[0m\u001b[2;36m \u001b[0m\u001b[34mINFO    \u001b[0m Scraping game schedule for Jumapili, Mac \u001b[1;36m7\u001b[0m \u001b[1;36m2010\u001b[0m                       \u001b]8;id=826703;file://C:\\Users\\abint\\anaconda3\\lib\\site-packages\\soccerdata\\whoscored.py\u001b\\\u001b[2mwhoscored.py\u001b[0m\u001b]8;;\u001b\\\u001b[2m:\u001b[0m\u001b]8;id=731634;file://C:\\Users\\abint\\anaconda3\\lib\\site-packages\\soccerdata\\whoscored.py#324\u001b\\\u001b[2m324\u001b[0m\u001b]8;;\u001b\\\n"
      ]
     },
     "metadata": {},
     "output_type": "display_data"
    },
    {
     "data": {
      "text/html": [
       "<pre style=\"white-space:pre;overflow-x:auto;line-height:normal;font-family:Menlo,'DejaVu Sans Mono',consolas,'Courier New',monospace\"><span style=\"color: #7fbfbf; text-decoration-color: #7fbfbf\">                    </span><span style=\"color: #000080; text-decoration-color: #000080\">INFO    </span> Scraping game schedule for Jumatatu, Mac <span style=\"color: #008080; text-decoration-color: #008080; font-weight: bold\">8</span> <span style=\"color: #008080; text-decoration-color: #008080; font-weight: bold\">2010</span>                       <a href=\"file://C:\\Users\\abint\\anaconda3\\lib\\site-packages\\soccerdata\\whoscored.py\" target=\"_blank\"><span style=\"color: #7f7f7f; text-decoration-color: #7f7f7f\">whoscored.py</span></a><span style=\"color: #7f7f7f; text-decoration-color: #7f7f7f\">:</span><a href=\"file://C:\\Users\\abint\\anaconda3\\lib\\site-packages\\soccerdata\\whoscored.py#324\" target=\"_blank\"><span style=\"color: #7f7f7f; text-decoration-color: #7f7f7f\">324</span></a>\n",
       "</pre>\n"
      ],
      "text/plain": [
       "\u001b[2;36m                   \u001b[0m\u001b[2;36m \u001b[0m\u001b[34mINFO    \u001b[0m Scraping game schedule for Jumatatu, Mac \u001b[1;36m8\u001b[0m \u001b[1;36m2010\u001b[0m                       \u001b]8;id=922342;file://C:\\Users\\abint\\anaconda3\\lib\\site-packages\\soccerdata\\whoscored.py\u001b\\\u001b[2mwhoscored.py\u001b[0m\u001b]8;;\u001b\\\u001b[2m:\u001b[0m\u001b]8;id=646178;file://C:\\Users\\abint\\anaconda3\\lib\\site-packages\\soccerdata\\whoscored.py#324\u001b\\\u001b[2m324\u001b[0m\u001b]8;;\u001b\\\n"
      ]
     },
     "metadata": {},
     "output_type": "display_data"
    },
    {
     "data": {
      "text/html": [
       "<pre style=\"white-space:pre;overflow-x:auto;line-height:normal;font-family:Menlo,'DejaVu Sans Mono',consolas,'Courier New',monospace\"><span style=\"color: #7fbfbf; text-decoration-color: #7fbfbf\">                    </span><span style=\"color: #000080; text-decoration-color: #000080\">INFO    </span> Scraping game schedule for Jumanne, Mac <span style=\"color: #008080; text-decoration-color: #008080; font-weight: bold\">9</span> <span style=\"color: #008080; text-decoration-color: #008080; font-weight: bold\">2010</span>                        <a href=\"file://C:\\Users\\abint\\anaconda3\\lib\\site-packages\\soccerdata\\whoscored.py\" target=\"_blank\"><span style=\"color: #7f7f7f; text-decoration-color: #7f7f7f\">whoscored.py</span></a><span style=\"color: #7f7f7f; text-decoration-color: #7f7f7f\">:</span><a href=\"file://C:\\Users\\abint\\anaconda3\\lib\\site-packages\\soccerdata\\whoscored.py#324\" target=\"_blank\"><span style=\"color: #7f7f7f; text-decoration-color: #7f7f7f\">324</span></a>\n",
       "</pre>\n"
      ],
      "text/plain": [
       "\u001b[2;36m                   \u001b[0m\u001b[2;36m \u001b[0m\u001b[34mINFO    \u001b[0m Scraping game schedule for Jumanne, Mac \u001b[1;36m9\u001b[0m \u001b[1;36m2010\u001b[0m                        \u001b]8;id=446366;file://C:\\Users\\abint\\anaconda3\\lib\\site-packages\\soccerdata\\whoscored.py\u001b\\\u001b[2mwhoscored.py\u001b[0m\u001b]8;;\u001b\\\u001b[2m:\u001b[0m\u001b]8;id=4217;file://C:\\Users\\abint\\anaconda3\\lib\\site-packages\\soccerdata\\whoscored.py#324\u001b\\\u001b[2m324\u001b[0m\u001b]8;;\u001b\\\n"
      ]
     },
     "metadata": {},
     "output_type": "display_data"
    },
    {
     "data": {
      "text/html": [
       "<pre style=\"white-space:pre;overflow-x:auto;line-height:normal;font-family:Menlo,'DejaVu Sans Mono',consolas,'Courier New',monospace\"><span style=\"color: #7fbfbf; text-decoration-color: #7fbfbf\">                    </span><span style=\"color: #000080; text-decoration-color: #000080\">INFO    </span> Scraping game schedule for Jumatano, Mac <span style=\"color: #008080; text-decoration-color: #008080; font-weight: bold\">10</span> <span style=\"color: #008080; text-decoration-color: #008080; font-weight: bold\">2010</span>                      <a href=\"file://C:\\Users\\abint\\anaconda3\\lib\\site-packages\\soccerdata\\whoscored.py\" target=\"_blank\"><span style=\"color: #7f7f7f; text-decoration-color: #7f7f7f\">whoscored.py</span></a><span style=\"color: #7f7f7f; text-decoration-color: #7f7f7f\">:</span><a href=\"file://C:\\Users\\abint\\anaconda3\\lib\\site-packages\\soccerdata\\whoscored.py#324\" target=\"_blank\"><span style=\"color: #7f7f7f; text-decoration-color: #7f7f7f\">324</span></a>\n",
       "</pre>\n"
      ],
      "text/plain": [
       "\u001b[2;36m                   \u001b[0m\u001b[2;36m \u001b[0m\u001b[34mINFO    \u001b[0m Scraping game schedule for Jumatano, Mac \u001b[1;36m10\u001b[0m \u001b[1;36m2010\u001b[0m                      \u001b]8;id=203694;file://C:\\Users\\abint\\anaconda3\\lib\\site-packages\\soccerdata\\whoscored.py\u001b\\\u001b[2mwhoscored.py\u001b[0m\u001b]8;;\u001b\\\u001b[2m:\u001b[0m\u001b]8;id=664592;file://C:\\Users\\abint\\anaconda3\\lib\\site-packages\\soccerdata\\whoscored.py#324\u001b\\\u001b[2m324\u001b[0m\u001b]8;;\u001b\\\n"
      ]
     },
     "metadata": {},
     "output_type": "display_data"
    },
    {
     "data": {
      "text/html": [
       "<pre style=\"white-space:pre;overflow-x:auto;line-height:normal;font-family:Menlo,'DejaVu Sans Mono',consolas,'Courier New',monospace\"><span style=\"color: #7fbfbf; text-decoration-color: #7fbfbf\">[09/08/23 16:26:25] </span><span style=\"color: #000080; text-decoration-color: #000080\">INFO    </span> Scraping game schedule for Jumamosi, Mac <span style=\"color: #008080; text-decoration-color: #008080; font-weight: bold\">13</span> <span style=\"color: #008080; text-decoration-color: #008080; font-weight: bold\">2010</span>                      <a href=\"file://C:\\Users\\abint\\anaconda3\\lib\\site-packages\\soccerdata\\whoscored.py\" target=\"_blank\"><span style=\"color: #7f7f7f; text-decoration-color: #7f7f7f\">whoscored.py</span></a><span style=\"color: #7f7f7f; text-decoration-color: #7f7f7f\">:</span><a href=\"file://C:\\Users\\abint\\anaconda3\\lib\\site-packages\\soccerdata\\whoscored.py#324\" target=\"_blank\"><span style=\"color: #7f7f7f; text-decoration-color: #7f7f7f\">324</span></a>\n",
       "</pre>\n"
      ],
      "text/plain": [
       "\u001b[2;36m[09/08/23 16:26:25]\u001b[0m\u001b[2;36m \u001b[0m\u001b[34mINFO    \u001b[0m Scraping game schedule for Jumamosi, Mac \u001b[1;36m13\u001b[0m \u001b[1;36m2010\u001b[0m                      \u001b]8;id=149348;file://C:\\Users\\abint\\anaconda3\\lib\\site-packages\\soccerdata\\whoscored.py\u001b\\\u001b[2mwhoscored.py\u001b[0m\u001b]8;;\u001b\\\u001b[2m:\u001b[0m\u001b]8;id=374012;file://C:\\Users\\abint\\anaconda3\\lib\\site-packages\\soccerdata\\whoscored.py#324\u001b\\\u001b[2m324\u001b[0m\u001b]8;;\u001b\\\n"
      ]
     },
     "metadata": {},
     "output_type": "display_data"
    },
    {
     "data": {
      "text/html": [
       "<pre style=\"white-space:pre;overflow-x:auto;line-height:normal;font-family:Menlo,'DejaVu Sans Mono',consolas,'Courier New',monospace\"><span style=\"color: #7fbfbf; text-decoration-color: #7fbfbf\">[09/08/23 16:26:26] </span><span style=\"color: #000080; text-decoration-color: #000080\">INFO    </span> Scraping game schedule for Jumapili, Mac <span style=\"color: #008080; text-decoration-color: #008080; font-weight: bold\">14</span> <span style=\"color: #008080; text-decoration-color: #008080; font-weight: bold\">2010</span>                      <a href=\"file://C:\\Users\\abint\\anaconda3\\lib\\site-packages\\soccerdata\\whoscored.py\" target=\"_blank\"><span style=\"color: #7f7f7f; text-decoration-color: #7f7f7f\">whoscored.py</span></a><span style=\"color: #7f7f7f; text-decoration-color: #7f7f7f\">:</span><a href=\"file://C:\\Users\\abint\\anaconda3\\lib\\site-packages\\soccerdata\\whoscored.py#324\" target=\"_blank\"><span style=\"color: #7f7f7f; text-decoration-color: #7f7f7f\">324</span></a>\n",
       "</pre>\n"
      ],
      "text/plain": [
       "\u001b[2;36m[09/08/23 16:26:26]\u001b[0m\u001b[2;36m \u001b[0m\u001b[34mINFO    \u001b[0m Scraping game schedule for Jumapili, Mac \u001b[1;36m14\u001b[0m \u001b[1;36m2010\u001b[0m                      \u001b]8;id=149692;file://C:\\Users\\abint\\anaconda3\\lib\\site-packages\\soccerdata\\whoscored.py\u001b\\\u001b[2mwhoscored.py\u001b[0m\u001b]8;;\u001b\\\u001b[2m:\u001b[0m\u001b]8;id=97914;file://C:\\Users\\abint\\anaconda3\\lib\\site-packages\\soccerdata\\whoscored.py#324\u001b\\\u001b[2m324\u001b[0m\u001b]8;;\u001b\\\n"
      ]
     },
     "metadata": {},
     "output_type": "display_data"
    },
    {
     "data": {
      "text/html": [
       "<pre style=\"white-space:pre;overflow-x:auto;line-height:normal;font-family:Menlo,'DejaVu Sans Mono',consolas,'Courier New',monospace\"><span style=\"color: #7fbfbf; text-decoration-color: #7fbfbf\">                    </span><span style=\"color: #000080; text-decoration-color: #000080\">INFO    </span> Scraping game schedule for Jumatatu, Mac <span style=\"color: #008080; text-decoration-color: #008080; font-weight: bold\">15</span> <span style=\"color: #008080; text-decoration-color: #008080; font-weight: bold\">2010</span>                      <a href=\"file://C:\\Users\\abint\\anaconda3\\lib\\site-packages\\soccerdata\\whoscored.py\" target=\"_blank\"><span style=\"color: #7f7f7f; text-decoration-color: #7f7f7f\">whoscored.py</span></a><span style=\"color: #7f7f7f; text-decoration-color: #7f7f7f\">:</span><a href=\"file://C:\\Users\\abint\\anaconda3\\lib\\site-packages\\soccerdata\\whoscored.py#324\" target=\"_blank\"><span style=\"color: #7f7f7f; text-decoration-color: #7f7f7f\">324</span></a>\n",
       "</pre>\n"
      ],
      "text/plain": [
       "\u001b[2;36m                   \u001b[0m\u001b[2;36m \u001b[0m\u001b[34mINFO    \u001b[0m Scraping game schedule for Jumatatu, Mac \u001b[1;36m15\u001b[0m \u001b[1;36m2010\u001b[0m                      \u001b]8;id=697447;file://C:\\Users\\abint\\anaconda3\\lib\\site-packages\\soccerdata\\whoscored.py\u001b\\\u001b[2mwhoscored.py\u001b[0m\u001b]8;;\u001b\\\u001b[2m:\u001b[0m\u001b]8;id=601050;file://C:\\Users\\abint\\anaconda3\\lib\\site-packages\\soccerdata\\whoscored.py#324\u001b\\\u001b[2m324\u001b[0m\u001b]8;;\u001b\\\n"
      ]
     },
     "metadata": {},
     "output_type": "display_data"
    },
    {
     "data": {
      "text/html": [
       "<pre style=\"white-space:pre;overflow-x:auto;line-height:normal;font-family:Menlo,'DejaVu Sans Mono',consolas,'Courier New',monospace\"><span style=\"color: #7fbfbf; text-decoration-color: #7fbfbf\">                    </span><span style=\"color: #000080; text-decoration-color: #000080\">INFO    </span> Scraping game schedule for Jumanne, Mac <span style=\"color: #008080; text-decoration-color: #008080; font-weight: bold\">16</span> <span style=\"color: #008080; text-decoration-color: #008080; font-weight: bold\">2010</span>                       <a href=\"file://C:\\Users\\abint\\anaconda3\\lib\\site-packages\\soccerdata\\whoscored.py\" target=\"_blank\"><span style=\"color: #7f7f7f; text-decoration-color: #7f7f7f\">whoscored.py</span></a><span style=\"color: #7f7f7f; text-decoration-color: #7f7f7f\">:</span><a href=\"file://C:\\Users\\abint\\anaconda3\\lib\\site-packages\\soccerdata\\whoscored.py#324\" target=\"_blank\"><span style=\"color: #7f7f7f; text-decoration-color: #7f7f7f\">324</span></a>\n",
       "</pre>\n"
      ],
      "text/plain": [
       "\u001b[2;36m                   \u001b[0m\u001b[2;36m \u001b[0m\u001b[34mINFO    \u001b[0m Scraping game schedule for Jumanne, Mac \u001b[1;36m16\u001b[0m \u001b[1;36m2010\u001b[0m                       \u001b]8;id=776412;file://C:\\Users\\abint\\anaconda3\\lib\\site-packages\\soccerdata\\whoscored.py\u001b\\\u001b[2mwhoscored.py\u001b[0m\u001b]8;;\u001b\\\u001b[2m:\u001b[0m\u001b]8;id=751792;file://C:\\Users\\abint\\anaconda3\\lib\\site-packages\\soccerdata\\whoscored.py#324\u001b\\\u001b[2m324\u001b[0m\u001b]8;;\u001b\\\n"
      ]
     },
     "metadata": {},
     "output_type": "display_data"
    },
    {
     "data": {
      "text/html": [
       "<pre style=\"white-space:pre;overflow-x:auto;line-height:normal;font-family:Menlo,'DejaVu Sans Mono',consolas,'Courier New',monospace\"><span style=\"color: #7fbfbf; text-decoration-color: #7fbfbf\">                    </span><span style=\"color: #000080; text-decoration-color: #000080\">INFO    </span> Scraping game schedule for Jumamosi, Mac <span style=\"color: #008080; text-decoration-color: #008080; font-weight: bold\">20</span> <span style=\"color: #008080; text-decoration-color: #008080; font-weight: bold\">2010</span>                      <a href=\"file://C:\\Users\\abint\\anaconda3\\lib\\site-packages\\soccerdata\\whoscored.py\" target=\"_blank\"><span style=\"color: #7f7f7f; text-decoration-color: #7f7f7f\">whoscored.py</span></a><span style=\"color: #7f7f7f; text-decoration-color: #7f7f7f\">:</span><a href=\"file://C:\\Users\\abint\\anaconda3\\lib\\site-packages\\soccerdata\\whoscored.py#324\" target=\"_blank\"><span style=\"color: #7f7f7f; text-decoration-color: #7f7f7f\">324</span></a>\n",
       "</pre>\n"
      ],
      "text/plain": [
       "\u001b[2;36m                   \u001b[0m\u001b[2;36m \u001b[0m\u001b[34mINFO    \u001b[0m Scraping game schedule for Jumamosi, Mac \u001b[1;36m20\u001b[0m \u001b[1;36m2010\u001b[0m                      \u001b]8;id=490023;file://C:\\Users\\abint\\anaconda3\\lib\\site-packages\\soccerdata\\whoscored.py\u001b\\\u001b[2mwhoscored.py\u001b[0m\u001b]8;;\u001b\\\u001b[2m:\u001b[0m\u001b]8;id=876019;file://C:\\Users\\abint\\anaconda3\\lib\\site-packages\\soccerdata\\whoscored.py#324\u001b\\\u001b[2m324\u001b[0m\u001b]8;;\u001b\\\n"
      ]
     },
     "metadata": {},
     "output_type": "display_data"
    },
    {
     "data": {
      "text/html": [
       "<pre style=\"white-space:pre;overflow-x:auto;line-height:normal;font-family:Menlo,'DejaVu Sans Mono',consolas,'Courier New',monospace\"><span style=\"color: #7fbfbf; text-decoration-color: #7fbfbf\">[09/08/23 16:26:27] </span><span style=\"color: #000080; text-decoration-color: #000080\">INFO    </span> Scraping game schedule for Jumapili, Mac <span style=\"color: #008080; text-decoration-color: #008080; font-weight: bold\">21</span> <span style=\"color: #008080; text-decoration-color: #008080; font-weight: bold\">2010</span>                      <a href=\"file://C:\\Users\\abint\\anaconda3\\lib\\site-packages\\soccerdata\\whoscored.py\" target=\"_blank\"><span style=\"color: #7f7f7f; text-decoration-color: #7f7f7f\">whoscored.py</span></a><span style=\"color: #7f7f7f; text-decoration-color: #7f7f7f\">:</span><a href=\"file://C:\\Users\\abint\\anaconda3\\lib\\site-packages\\soccerdata\\whoscored.py#324\" target=\"_blank\"><span style=\"color: #7f7f7f; text-decoration-color: #7f7f7f\">324</span></a>\n",
       "</pre>\n"
      ],
      "text/plain": [
       "\u001b[2;36m[09/08/23 16:26:27]\u001b[0m\u001b[2;36m \u001b[0m\u001b[34mINFO    \u001b[0m Scraping game schedule for Jumapili, Mac \u001b[1;36m21\u001b[0m \u001b[1;36m2010\u001b[0m                      \u001b]8;id=538232;file://C:\\Users\\abint\\anaconda3\\lib\\site-packages\\soccerdata\\whoscored.py\u001b\\\u001b[2mwhoscored.py\u001b[0m\u001b]8;;\u001b\\\u001b[2m:\u001b[0m\u001b]8;id=502846;file://C:\\Users\\abint\\anaconda3\\lib\\site-packages\\soccerdata\\whoscored.py#324\u001b\\\u001b[2m324\u001b[0m\u001b]8;;\u001b\\\n"
      ]
     },
     "metadata": {},
     "output_type": "display_data"
    },
    {
     "data": {
      "text/html": [
       "<pre style=\"white-space:pre;overflow-x:auto;line-height:normal;font-family:Menlo,'DejaVu Sans Mono',consolas,'Courier New',monospace\"><span style=\"color: #7fbfbf; text-decoration-color: #7fbfbf\">[09/08/23 16:26:28] </span><span style=\"color: #000080; text-decoration-color: #000080\">INFO    </span> Scraping game schedule for Jumanne, Mac <span style=\"color: #008080; text-decoration-color: #008080; font-weight: bold\">23</span> <span style=\"color: #008080; text-decoration-color: #008080; font-weight: bold\">2010</span>                       <a href=\"file://C:\\Users\\abint\\anaconda3\\lib\\site-packages\\soccerdata\\whoscored.py\" target=\"_blank\"><span style=\"color: #7f7f7f; text-decoration-color: #7f7f7f\">whoscored.py</span></a><span style=\"color: #7f7f7f; text-decoration-color: #7f7f7f\">:</span><a href=\"file://C:\\Users\\abint\\anaconda3\\lib\\site-packages\\soccerdata\\whoscored.py#324\" target=\"_blank\"><span style=\"color: #7f7f7f; text-decoration-color: #7f7f7f\">324</span></a>\n",
       "</pre>\n"
      ],
      "text/plain": [
       "\u001b[2;36m[09/08/23 16:26:28]\u001b[0m\u001b[2;36m \u001b[0m\u001b[34mINFO    \u001b[0m Scraping game schedule for Jumanne, Mac \u001b[1;36m23\u001b[0m \u001b[1;36m2010\u001b[0m                       \u001b]8;id=511589;file://C:\\Users\\abint\\anaconda3\\lib\\site-packages\\soccerdata\\whoscored.py\u001b\\\u001b[2mwhoscored.py\u001b[0m\u001b]8;;\u001b\\\u001b[2m:\u001b[0m\u001b]8;id=397016;file://C:\\Users\\abint\\anaconda3\\lib\\site-packages\\soccerdata\\whoscored.py#324\u001b\\\u001b[2m324\u001b[0m\u001b]8;;\u001b\\\n"
      ]
     },
     "metadata": {},
     "output_type": "display_data"
    },
    {
     "data": {
      "text/html": [
       "<pre style=\"white-space:pre;overflow-x:auto;line-height:normal;font-family:Menlo,'DejaVu Sans Mono',consolas,'Courier New',monospace\"><span style=\"color: #7fbfbf; text-decoration-color: #7fbfbf\">                    </span><span style=\"color: #000080; text-decoration-color: #000080\">INFO    </span> Scraping game schedule for Jumatano, Mac <span style=\"color: #008080; text-decoration-color: #008080; font-weight: bold\">24</span> <span style=\"color: #008080; text-decoration-color: #008080; font-weight: bold\">2010</span>                      <a href=\"file://C:\\Users\\abint\\anaconda3\\lib\\site-packages\\soccerdata\\whoscored.py\" target=\"_blank\"><span style=\"color: #7f7f7f; text-decoration-color: #7f7f7f\">whoscored.py</span></a><span style=\"color: #7f7f7f; text-decoration-color: #7f7f7f\">:</span><a href=\"file://C:\\Users\\abint\\anaconda3\\lib\\site-packages\\soccerdata\\whoscored.py#324\" target=\"_blank\"><span style=\"color: #7f7f7f; text-decoration-color: #7f7f7f\">324</span></a>\n",
       "</pre>\n"
      ],
      "text/plain": [
       "\u001b[2;36m                   \u001b[0m\u001b[2;36m \u001b[0m\u001b[34mINFO    \u001b[0m Scraping game schedule for Jumatano, Mac \u001b[1;36m24\u001b[0m \u001b[1;36m2010\u001b[0m                      \u001b]8;id=601370;file://C:\\Users\\abint\\anaconda3\\lib\\site-packages\\soccerdata\\whoscored.py\u001b\\\u001b[2mwhoscored.py\u001b[0m\u001b]8;;\u001b\\\u001b[2m:\u001b[0m\u001b]8;id=754707;file://C:\\Users\\abint\\anaconda3\\lib\\site-packages\\soccerdata\\whoscored.py#324\u001b\\\u001b[2m324\u001b[0m\u001b]8;;\u001b\\\n"
      ]
     },
     "metadata": {},
     "output_type": "display_data"
    },
    {
     "data": {
      "text/html": [
       "<pre style=\"white-space:pre;overflow-x:auto;line-height:normal;font-family:Menlo,'DejaVu Sans Mono',consolas,'Courier New',monospace\"><span style=\"color: #7fbfbf; text-decoration-color: #7fbfbf\">[09/08/23 16:26:29] </span><span style=\"color: #000080; text-decoration-color: #000080\">INFO    </span> Scraping game schedule for Jumamosi, Mac <span style=\"color: #008080; text-decoration-color: #008080; font-weight: bold\">27</span> <span style=\"color: #008080; text-decoration-color: #008080; font-weight: bold\">2010</span>                      <a href=\"file://C:\\Users\\abint\\anaconda3\\lib\\site-packages\\soccerdata\\whoscored.py\" target=\"_blank\"><span style=\"color: #7f7f7f; text-decoration-color: #7f7f7f\">whoscored.py</span></a><span style=\"color: #7f7f7f; text-decoration-color: #7f7f7f\">:</span><a href=\"file://C:\\Users\\abint\\anaconda3\\lib\\site-packages\\soccerdata\\whoscored.py#324\" target=\"_blank\"><span style=\"color: #7f7f7f; text-decoration-color: #7f7f7f\">324</span></a>\n",
       "</pre>\n"
      ],
      "text/plain": [
       "\u001b[2;36m[09/08/23 16:26:29]\u001b[0m\u001b[2;36m \u001b[0m\u001b[34mINFO    \u001b[0m Scraping game schedule for Jumamosi, Mac \u001b[1;36m27\u001b[0m \u001b[1;36m2010\u001b[0m                      \u001b]8;id=361693;file://C:\\Users\\abint\\anaconda3\\lib\\site-packages\\soccerdata\\whoscored.py\u001b\\\u001b[2mwhoscored.py\u001b[0m\u001b]8;;\u001b\\\u001b[2m:\u001b[0m\u001b]8;id=145488;file://C:\\Users\\abint\\anaconda3\\lib\\site-packages\\soccerdata\\whoscored.py#324\u001b\\\u001b[2m324\u001b[0m\u001b]8;;\u001b\\\n"
      ]
     },
     "metadata": {},
     "output_type": "display_data"
    },
    {
     "data": {
      "text/html": [
       "<pre style=\"white-space:pre;overflow-x:auto;line-height:normal;font-family:Menlo,'DejaVu Sans Mono',consolas,'Courier New',monospace\"><span style=\"color: #7fbfbf; text-decoration-color: #7fbfbf\">[09/08/23 16:26:30] </span><span style=\"color: #000080; text-decoration-color: #000080\">INFO    </span> Scraping game schedule for Jumapili, Mac <span style=\"color: #008080; text-decoration-color: #008080; font-weight: bold\">28</span> <span style=\"color: #008080; text-decoration-color: #008080; font-weight: bold\">2010</span>                      <a href=\"file://C:\\Users\\abint\\anaconda3\\lib\\site-packages\\soccerdata\\whoscored.py\" target=\"_blank\"><span style=\"color: #7f7f7f; text-decoration-color: #7f7f7f\">whoscored.py</span></a><span style=\"color: #7f7f7f; text-decoration-color: #7f7f7f\">:</span><a href=\"file://C:\\Users\\abint\\anaconda3\\lib\\site-packages\\soccerdata\\whoscored.py#324\" target=\"_blank\"><span style=\"color: #7f7f7f; text-decoration-color: #7f7f7f\">324</span></a>\n",
       "</pre>\n"
      ],
      "text/plain": [
       "\u001b[2;36m[09/08/23 16:26:30]\u001b[0m\u001b[2;36m \u001b[0m\u001b[34mINFO    \u001b[0m Scraping game schedule for Jumapili, Mac \u001b[1;36m28\u001b[0m \u001b[1;36m2010\u001b[0m                      \u001b]8;id=704501;file://C:\\Users\\abint\\anaconda3\\lib\\site-packages\\soccerdata\\whoscored.py\u001b\\\u001b[2mwhoscored.py\u001b[0m\u001b]8;;\u001b\\\u001b[2m:\u001b[0m\u001b]8;id=106736;file://C:\\Users\\abint\\anaconda3\\lib\\site-packages\\soccerdata\\whoscored.py#324\u001b\\\u001b[2m324\u001b[0m\u001b]8;;\u001b\\\n"
      ]
     },
     "metadata": {},
     "output_type": "display_data"
    },
    {
     "data": {
      "text/html": [
       "<pre style=\"white-space:pre;overflow-x:auto;line-height:normal;font-family:Menlo,'DejaVu Sans Mono',consolas,'Courier New',monospace\"><span style=\"color: #7fbfbf; text-decoration-color: #7fbfbf\">                    </span><span style=\"color: #000080; text-decoration-color: #000080\">INFO    </span> Scraping game schedule for Jumatatu, Mac <span style=\"color: #008080; text-decoration-color: #008080; font-weight: bold\">29</span> <span style=\"color: #008080; text-decoration-color: #008080; font-weight: bold\">2010</span>                      <a href=\"file://C:\\Users\\abint\\anaconda3\\lib\\site-packages\\soccerdata\\whoscored.py\" target=\"_blank\"><span style=\"color: #7f7f7f; text-decoration-color: #7f7f7f\">whoscored.py</span></a><span style=\"color: #7f7f7f; text-decoration-color: #7f7f7f\">:</span><a href=\"file://C:\\Users\\abint\\anaconda3\\lib\\site-packages\\soccerdata\\whoscored.py#324\" target=\"_blank\"><span style=\"color: #7f7f7f; text-decoration-color: #7f7f7f\">324</span></a>\n",
       "</pre>\n"
      ],
      "text/plain": [
       "\u001b[2;36m                   \u001b[0m\u001b[2;36m \u001b[0m\u001b[34mINFO    \u001b[0m Scraping game schedule for Jumatatu, Mac \u001b[1;36m29\u001b[0m \u001b[1;36m2010\u001b[0m                      \u001b]8;id=311311;file://C:\\Users\\abint\\anaconda3\\lib\\site-packages\\soccerdata\\whoscored.py\u001b\\\u001b[2mwhoscored.py\u001b[0m\u001b]8;;\u001b\\\u001b[2m:\u001b[0m\u001b]8;id=602964;file://C:\\Users\\abint\\anaconda3\\lib\\site-packages\\soccerdata\\whoscored.py#324\u001b\\\u001b[2m324\u001b[0m\u001b]8;;\u001b\\\n"
      ]
     },
     "metadata": {},
     "output_type": "display_data"
    },
    {
     "data": {
      "text/html": [
       "<pre style=\"white-space:pre;overflow-x:auto;line-height:normal;font-family:Menlo,'DejaVu Sans Mono',consolas,'Courier New',monospace\"><span style=\"color: #7fbfbf; text-decoration-color: #7fbfbf\">[09/08/23 16:26:35] </span><span style=\"color: #000080; text-decoration-color: #000080\">INFO    </span> Scraping game schedule for Jumatatu, Feb <span style=\"color: #008080; text-decoration-color: #008080; font-weight: bold\">1</span> <span style=\"color: #008080; text-decoration-color: #008080; font-weight: bold\">2010</span>                       <a href=\"file://C:\\Users\\abint\\anaconda3\\lib\\site-packages\\soccerdata\\whoscored.py\" target=\"_blank\"><span style=\"color: #7f7f7f; text-decoration-color: #7f7f7f\">whoscored.py</span></a><span style=\"color: #7f7f7f; text-decoration-color: #7f7f7f\">:</span><a href=\"file://C:\\Users\\abint\\anaconda3\\lib\\site-packages\\soccerdata\\whoscored.py#324\" target=\"_blank\"><span style=\"color: #7f7f7f; text-decoration-color: #7f7f7f\">324</span></a>\n",
       "</pre>\n"
      ],
      "text/plain": [
       "\u001b[2;36m[09/08/23 16:26:35]\u001b[0m\u001b[2;36m \u001b[0m\u001b[34mINFO    \u001b[0m Scraping game schedule for Jumatatu, Feb \u001b[1;36m1\u001b[0m \u001b[1;36m2010\u001b[0m                       \u001b]8;id=610543;file://C:\\Users\\abint\\anaconda3\\lib\\site-packages\\soccerdata\\whoscored.py\u001b\\\u001b[2mwhoscored.py\u001b[0m\u001b]8;;\u001b\\\u001b[2m:\u001b[0m\u001b]8;id=39300;file://C:\\Users\\abint\\anaconda3\\lib\\site-packages\\soccerdata\\whoscored.py#324\u001b\\\u001b[2m324\u001b[0m\u001b]8;;\u001b\\\n"
      ]
     },
     "metadata": {},
     "output_type": "display_data"
    },
    {
     "data": {
      "text/html": [
       "<pre style=\"white-space:pre;overflow-x:auto;line-height:normal;font-family:Menlo,'DejaVu Sans Mono',consolas,'Courier New',monospace\"><span style=\"color: #7fbfbf; text-decoration-color: #7fbfbf\">                    </span><span style=\"color: #000080; text-decoration-color: #000080\">INFO    </span> Scraping game schedule for Jumanne, Feb <span style=\"color: #008080; text-decoration-color: #008080; font-weight: bold\">2</span> <span style=\"color: #008080; text-decoration-color: #008080; font-weight: bold\">2010</span>                        <a href=\"file://C:\\Users\\abint\\anaconda3\\lib\\site-packages\\soccerdata\\whoscored.py\" target=\"_blank\"><span style=\"color: #7f7f7f; text-decoration-color: #7f7f7f\">whoscored.py</span></a><span style=\"color: #7f7f7f; text-decoration-color: #7f7f7f\">:</span><a href=\"file://C:\\Users\\abint\\anaconda3\\lib\\site-packages\\soccerdata\\whoscored.py#324\" target=\"_blank\"><span style=\"color: #7f7f7f; text-decoration-color: #7f7f7f\">324</span></a>\n",
       "</pre>\n"
      ],
      "text/plain": [
       "\u001b[2;36m                   \u001b[0m\u001b[2;36m \u001b[0m\u001b[34mINFO    \u001b[0m Scraping game schedule for Jumanne, Feb \u001b[1;36m2\u001b[0m \u001b[1;36m2010\u001b[0m                        \u001b]8;id=884937;file://C:\\Users\\abint\\anaconda3\\lib\\site-packages\\soccerdata\\whoscored.py\u001b\\\u001b[2mwhoscored.py\u001b[0m\u001b]8;;\u001b\\\u001b[2m:\u001b[0m\u001b]8;id=86096;file://C:\\Users\\abint\\anaconda3\\lib\\site-packages\\soccerdata\\whoscored.py#324\u001b\\\u001b[2m324\u001b[0m\u001b]8;;\u001b\\\n"
      ]
     },
     "metadata": {},
     "output_type": "display_data"
    },
    {
     "data": {
      "text/html": [
       "<pre style=\"white-space:pre;overflow-x:auto;line-height:normal;font-family:Menlo,'DejaVu Sans Mono',consolas,'Courier New',monospace\"><span style=\"color: #7fbfbf; text-decoration-color: #7fbfbf\">[09/08/23 16:26:36] </span><span style=\"color: #000080; text-decoration-color: #000080\">INFO    </span> Scraping game schedule for Jumatano, Feb <span style=\"color: #008080; text-decoration-color: #008080; font-weight: bold\">3</span> <span style=\"color: #008080; text-decoration-color: #008080; font-weight: bold\">2010</span>                       <a href=\"file://C:\\Users\\abint\\anaconda3\\lib\\site-packages\\soccerdata\\whoscored.py\" target=\"_blank\"><span style=\"color: #7f7f7f; text-decoration-color: #7f7f7f\">whoscored.py</span></a><span style=\"color: #7f7f7f; text-decoration-color: #7f7f7f\">:</span><a href=\"file://C:\\Users\\abint\\anaconda3\\lib\\site-packages\\soccerdata\\whoscored.py#324\" target=\"_blank\"><span style=\"color: #7f7f7f; text-decoration-color: #7f7f7f\">324</span></a>\n",
       "</pre>\n"
      ],
      "text/plain": [
       "\u001b[2;36m[09/08/23 16:26:36]\u001b[0m\u001b[2;36m \u001b[0m\u001b[34mINFO    \u001b[0m Scraping game schedule for Jumatano, Feb \u001b[1;36m3\u001b[0m \u001b[1;36m2010\u001b[0m                       \u001b]8;id=502922;file://C:\\Users\\abint\\anaconda3\\lib\\site-packages\\soccerdata\\whoscored.py\u001b\\\u001b[2mwhoscored.py\u001b[0m\u001b]8;;\u001b\\\u001b[2m:\u001b[0m\u001b]8;id=572980;file://C:\\Users\\abint\\anaconda3\\lib\\site-packages\\soccerdata\\whoscored.py#324\u001b\\\u001b[2m324\u001b[0m\u001b]8;;\u001b\\\n"
      ]
     },
     "metadata": {},
     "output_type": "display_data"
    },
    {
     "data": {
      "text/html": [
       "<pre style=\"white-space:pre;overflow-x:auto;line-height:normal;font-family:Menlo,'DejaVu Sans Mono',consolas,'Courier New',monospace\"><span style=\"color: #7fbfbf; text-decoration-color: #7fbfbf\">                    </span><span style=\"color: #000080; text-decoration-color: #000080\">INFO    </span> Scraping game schedule for Jumamosi, Feb <span style=\"color: #008080; text-decoration-color: #008080; font-weight: bold\">6</span> <span style=\"color: #008080; text-decoration-color: #008080; font-weight: bold\">2010</span>                       <a href=\"file://C:\\Users\\abint\\anaconda3\\lib\\site-packages\\soccerdata\\whoscored.py\" target=\"_blank\"><span style=\"color: #7f7f7f; text-decoration-color: #7f7f7f\">whoscored.py</span></a><span style=\"color: #7f7f7f; text-decoration-color: #7f7f7f\">:</span><a href=\"file://C:\\Users\\abint\\anaconda3\\lib\\site-packages\\soccerdata\\whoscored.py#324\" target=\"_blank\"><span style=\"color: #7f7f7f; text-decoration-color: #7f7f7f\">324</span></a>\n",
       "</pre>\n"
      ],
      "text/plain": [
       "\u001b[2;36m                   \u001b[0m\u001b[2;36m \u001b[0m\u001b[34mINFO    \u001b[0m Scraping game schedule for Jumamosi, Feb \u001b[1;36m6\u001b[0m \u001b[1;36m2010\u001b[0m                       \u001b]8;id=373337;file://C:\\Users\\abint\\anaconda3\\lib\\site-packages\\soccerdata\\whoscored.py\u001b\\\u001b[2mwhoscored.py\u001b[0m\u001b]8;;\u001b\\\u001b[2m:\u001b[0m\u001b]8;id=976768;file://C:\\Users\\abint\\anaconda3\\lib\\site-packages\\soccerdata\\whoscored.py#324\u001b\\\u001b[2m324\u001b[0m\u001b]8;;\u001b\\\n"
      ]
     },
     "metadata": {},
     "output_type": "display_data"
    },
    {
     "data": {
      "text/html": [
       "<pre style=\"white-space:pre;overflow-x:auto;line-height:normal;font-family:Menlo,'DejaVu Sans Mono',consolas,'Courier New',monospace\"><span style=\"color: #7fbfbf; text-decoration-color: #7fbfbf\">[09/08/23 16:26:37] </span><span style=\"color: #000080; text-decoration-color: #000080\">INFO    </span> Scraping game schedule for Jumapili, Feb <span style=\"color: #008080; text-decoration-color: #008080; font-weight: bold\">7</span> <span style=\"color: #008080; text-decoration-color: #008080; font-weight: bold\">2010</span>                       <a href=\"file://C:\\Users\\abint\\anaconda3\\lib\\site-packages\\soccerdata\\whoscored.py\" target=\"_blank\"><span style=\"color: #7f7f7f; text-decoration-color: #7f7f7f\">whoscored.py</span></a><span style=\"color: #7f7f7f; text-decoration-color: #7f7f7f\">:</span><a href=\"file://C:\\Users\\abint\\anaconda3\\lib\\site-packages\\soccerdata\\whoscored.py#324\" target=\"_blank\"><span style=\"color: #7f7f7f; text-decoration-color: #7f7f7f\">324</span></a>\n",
       "</pre>\n"
      ],
      "text/plain": [
       "\u001b[2;36m[09/08/23 16:26:37]\u001b[0m\u001b[2;36m \u001b[0m\u001b[34mINFO    \u001b[0m Scraping game schedule for Jumapili, Feb \u001b[1;36m7\u001b[0m \u001b[1;36m2010\u001b[0m                       \u001b]8;id=323286;file://C:\\Users\\abint\\anaconda3\\lib\\site-packages\\soccerdata\\whoscored.py\u001b\\\u001b[2mwhoscored.py\u001b[0m\u001b]8;;\u001b\\\u001b[2m:\u001b[0m\u001b]8;id=644517;file://C:\\Users\\abint\\anaconda3\\lib\\site-packages\\soccerdata\\whoscored.py#324\u001b\\\u001b[2m324\u001b[0m\u001b]8;;\u001b\\\n"
      ]
     },
     "metadata": {},
     "output_type": "display_data"
    },
    {
     "data": {
      "text/html": [
       "<pre style=\"white-space:pre;overflow-x:auto;line-height:normal;font-family:Menlo,'DejaVu Sans Mono',consolas,'Courier New',monospace\"><span style=\"color: #7fbfbf; text-decoration-color: #7fbfbf\">                    </span><span style=\"color: #000080; text-decoration-color: #000080\">INFO    </span> Scraping game schedule for Jumanne, Feb <span style=\"color: #008080; text-decoration-color: #008080; font-weight: bold\">9</span> <span style=\"color: #008080; text-decoration-color: #008080; font-weight: bold\">2010</span>                        <a href=\"file://C:\\Users\\abint\\anaconda3\\lib\\site-packages\\soccerdata\\whoscored.py\" target=\"_blank\"><span style=\"color: #7f7f7f; text-decoration-color: #7f7f7f\">whoscored.py</span></a><span style=\"color: #7f7f7f; text-decoration-color: #7f7f7f\">:</span><a href=\"file://C:\\Users\\abint\\anaconda3\\lib\\site-packages\\soccerdata\\whoscored.py#324\" target=\"_blank\"><span style=\"color: #7f7f7f; text-decoration-color: #7f7f7f\">324</span></a>\n",
       "</pre>\n"
      ],
      "text/plain": [
       "\u001b[2;36m                   \u001b[0m\u001b[2;36m \u001b[0m\u001b[34mINFO    \u001b[0m Scraping game schedule for Jumanne, Feb \u001b[1;36m9\u001b[0m \u001b[1;36m2010\u001b[0m                        \u001b]8;id=201093;file://C:\\Users\\abint\\anaconda3\\lib\\site-packages\\soccerdata\\whoscored.py\u001b\\\u001b[2mwhoscored.py\u001b[0m\u001b]8;;\u001b\\\u001b[2m:\u001b[0m\u001b]8;id=118938;file://C:\\Users\\abint\\anaconda3\\lib\\site-packages\\soccerdata\\whoscored.py#324\u001b\\\u001b[2m324\u001b[0m\u001b]8;;\u001b\\\n"
      ]
     },
     "metadata": {},
     "output_type": "display_data"
    },
    {
     "data": {
      "text/html": [
       "<pre style=\"white-space:pre;overflow-x:auto;line-height:normal;font-family:Menlo,'DejaVu Sans Mono',consolas,'Courier New',monospace\"><span style=\"color: #7fbfbf; text-decoration-color: #7fbfbf\">[09/08/23 16:26:38] </span><span style=\"color: #000080; text-decoration-color: #000080\">INFO    </span> Scraping game schedule for Jumatano, Feb <span style=\"color: #008080; text-decoration-color: #008080; font-weight: bold\">10</span> <span style=\"color: #008080; text-decoration-color: #008080; font-weight: bold\">2010</span>                      <a href=\"file://C:\\Users\\abint\\anaconda3\\lib\\site-packages\\soccerdata\\whoscored.py\" target=\"_blank\"><span style=\"color: #7f7f7f; text-decoration-color: #7f7f7f\">whoscored.py</span></a><span style=\"color: #7f7f7f; text-decoration-color: #7f7f7f\">:</span><a href=\"file://C:\\Users\\abint\\anaconda3\\lib\\site-packages\\soccerdata\\whoscored.py#324\" target=\"_blank\"><span style=\"color: #7f7f7f; text-decoration-color: #7f7f7f\">324</span></a>\n",
       "</pre>\n"
      ],
      "text/plain": [
       "\u001b[2;36m[09/08/23 16:26:38]\u001b[0m\u001b[2;36m \u001b[0m\u001b[34mINFO    \u001b[0m Scraping game schedule for Jumatano, Feb \u001b[1;36m10\u001b[0m \u001b[1;36m2010\u001b[0m                      \u001b]8;id=974922;file://C:\\Users\\abint\\anaconda3\\lib\\site-packages\\soccerdata\\whoscored.py\u001b\\\u001b[2mwhoscored.py\u001b[0m\u001b]8;;\u001b\\\u001b[2m:\u001b[0m\u001b]8;id=960922;file://C:\\Users\\abint\\anaconda3\\lib\\site-packages\\soccerdata\\whoscored.py#324\u001b\\\u001b[2m324\u001b[0m\u001b]8;;\u001b\\\n"
      ]
     },
     "metadata": {},
     "output_type": "display_data"
    },
    {
     "data": {
      "text/html": [
       "<pre style=\"white-space:pre;overflow-x:auto;line-height:normal;font-family:Menlo,'DejaVu Sans Mono',consolas,'Courier New',monospace\"><span style=\"color: #7fbfbf; text-decoration-color: #7fbfbf\">[09/08/23 16:26:39] </span><span style=\"color: #000080; text-decoration-color: #000080\">INFO    </span> Scraping game schedule for Jumanne, Feb <span style=\"color: #008080; text-decoration-color: #008080; font-weight: bold\">16</span> <span style=\"color: #008080; text-decoration-color: #008080; font-weight: bold\">2010</span>                       <a href=\"file://C:\\Users\\abint\\anaconda3\\lib\\site-packages\\soccerdata\\whoscored.py\" target=\"_blank\"><span style=\"color: #7f7f7f; text-decoration-color: #7f7f7f\">whoscored.py</span></a><span style=\"color: #7f7f7f; text-decoration-color: #7f7f7f\">:</span><a href=\"file://C:\\Users\\abint\\anaconda3\\lib\\site-packages\\soccerdata\\whoscored.py#324\" target=\"_blank\"><span style=\"color: #7f7f7f; text-decoration-color: #7f7f7f\">324</span></a>\n",
       "</pre>\n"
      ],
      "text/plain": [
       "\u001b[2;36m[09/08/23 16:26:39]\u001b[0m\u001b[2;36m \u001b[0m\u001b[34mINFO    \u001b[0m Scraping game schedule for Jumanne, Feb \u001b[1;36m16\u001b[0m \u001b[1;36m2010\u001b[0m                       \u001b]8;id=389554;file://C:\\Users\\abint\\anaconda3\\lib\\site-packages\\soccerdata\\whoscored.py\u001b\\\u001b[2mwhoscored.py\u001b[0m\u001b]8;;\u001b\\\u001b[2m:\u001b[0m\u001b]8;id=185723;file://C:\\Users\\abint\\anaconda3\\lib\\site-packages\\soccerdata\\whoscored.py#324\u001b\\\u001b[2m324\u001b[0m\u001b]8;;\u001b\\\n"
      ]
     },
     "metadata": {},
     "output_type": "display_data"
    },
    {
     "data": {
      "text/html": [
       "<pre style=\"white-space:pre;overflow-x:auto;line-height:normal;font-family:Menlo,'DejaVu Sans Mono',consolas,'Courier New',monospace\"><span style=\"color: #7fbfbf; text-decoration-color: #7fbfbf\">                    </span><span style=\"color: #000080; text-decoration-color: #000080\">INFO    </span> Scraping game schedule for Jumatano, Feb <span style=\"color: #008080; text-decoration-color: #008080; font-weight: bold\">17</span> <span style=\"color: #008080; text-decoration-color: #008080; font-weight: bold\">2010</span>                      <a href=\"file://C:\\Users\\abint\\anaconda3\\lib\\site-packages\\soccerdata\\whoscored.py\" target=\"_blank\"><span style=\"color: #7f7f7f; text-decoration-color: #7f7f7f\">whoscored.py</span></a><span style=\"color: #7f7f7f; text-decoration-color: #7f7f7f\">:</span><a href=\"file://C:\\Users\\abint\\anaconda3\\lib\\site-packages\\soccerdata\\whoscored.py#324\" target=\"_blank\"><span style=\"color: #7f7f7f; text-decoration-color: #7f7f7f\">324</span></a>\n",
       "</pre>\n"
      ],
      "text/plain": [
       "\u001b[2;36m                   \u001b[0m\u001b[2;36m \u001b[0m\u001b[34mINFO    \u001b[0m Scraping game schedule for Jumatano, Feb \u001b[1;36m17\u001b[0m \u001b[1;36m2010\u001b[0m                      \u001b]8;id=40235;file://C:\\Users\\abint\\anaconda3\\lib\\site-packages\\soccerdata\\whoscored.py\u001b\\\u001b[2mwhoscored.py\u001b[0m\u001b]8;;\u001b\\\u001b[2m:\u001b[0m\u001b]8;id=138541;file://C:\\Users\\abint\\anaconda3\\lib\\site-packages\\soccerdata\\whoscored.py#324\u001b\\\u001b[2m324\u001b[0m\u001b]8;;\u001b\\\n"
      ]
     },
     "metadata": {},
     "output_type": "display_data"
    },
    {
     "data": {
      "text/html": [
       "<pre style=\"white-space:pre;overflow-x:auto;line-height:normal;font-family:Menlo,'DejaVu Sans Mono',consolas,'Courier New',monospace\"><span style=\"color: #7fbfbf; text-decoration-color: #7fbfbf\">                    </span><span style=\"color: #000080; text-decoration-color: #000080\">INFO    </span> Scraping game schedule for Jumamosi, Feb <span style=\"color: #008080; text-decoration-color: #008080; font-weight: bold\">20</span> <span style=\"color: #008080; text-decoration-color: #008080; font-weight: bold\">2010</span>                      <a href=\"file://C:\\Users\\abint\\anaconda3\\lib\\site-packages\\soccerdata\\whoscored.py\" target=\"_blank\"><span style=\"color: #7f7f7f; text-decoration-color: #7f7f7f\">whoscored.py</span></a><span style=\"color: #7f7f7f; text-decoration-color: #7f7f7f\">:</span><a href=\"file://C:\\Users\\abint\\anaconda3\\lib\\site-packages\\soccerdata\\whoscored.py#324\" target=\"_blank\"><span style=\"color: #7f7f7f; text-decoration-color: #7f7f7f\">324</span></a>\n",
       "</pre>\n"
      ],
      "text/plain": [
       "\u001b[2;36m                   \u001b[0m\u001b[2;36m \u001b[0m\u001b[34mINFO    \u001b[0m Scraping game schedule for Jumamosi, Feb \u001b[1;36m20\u001b[0m \u001b[1;36m2010\u001b[0m                      \u001b]8;id=503871;file://C:\\Users\\abint\\anaconda3\\lib\\site-packages\\soccerdata\\whoscored.py\u001b\\\u001b[2mwhoscored.py\u001b[0m\u001b]8;;\u001b\\\u001b[2m:\u001b[0m\u001b]8;id=367306;file://C:\\Users\\abint\\anaconda3\\lib\\site-packages\\soccerdata\\whoscored.py#324\u001b\\\u001b[2m324\u001b[0m\u001b]8;;\u001b\\\n"
      ]
     },
     "metadata": {},
     "output_type": "display_data"
    },
    {
     "data": {
      "text/html": [
       "<pre style=\"white-space:pre;overflow-x:auto;line-height:normal;font-family:Menlo,'DejaVu Sans Mono',consolas,'Courier New',monospace\"><span style=\"color: #7fbfbf; text-decoration-color: #7fbfbf\">[09/08/23 16:26:40] </span><span style=\"color: #000080; text-decoration-color: #000080\">INFO    </span> Scraping game schedule for Jumapili, Feb <span style=\"color: #008080; text-decoration-color: #008080; font-weight: bold\">21</span> <span style=\"color: #008080; text-decoration-color: #008080; font-weight: bold\">2010</span>                      <a href=\"file://C:\\Users\\abint\\anaconda3\\lib\\site-packages\\soccerdata\\whoscored.py\" target=\"_blank\"><span style=\"color: #7f7f7f; text-decoration-color: #7f7f7f\">whoscored.py</span></a><span style=\"color: #7f7f7f; text-decoration-color: #7f7f7f\">:</span><a href=\"file://C:\\Users\\abint\\anaconda3\\lib\\site-packages\\soccerdata\\whoscored.py#324\" target=\"_blank\"><span style=\"color: #7f7f7f; text-decoration-color: #7f7f7f\">324</span></a>\n",
       "</pre>\n"
      ],
      "text/plain": [
       "\u001b[2;36m[09/08/23 16:26:40]\u001b[0m\u001b[2;36m \u001b[0m\u001b[34mINFO    \u001b[0m Scraping game schedule for Jumapili, Feb \u001b[1;36m21\u001b[0m \u001b[1;36m2010\u001b[0m                      \u001b]8;id=814853;file://C:\\Users\\abint\\anaconda3\\lib\\site-packages\\soccerdata\\whoscored.py\u001b\\\u001b[2mwhoscored.py\u001b[0m\u001b]8;;\u001b\\\u001b[2m:\u001b[0m\u001b]8;id=417812;file://C:\\Users\\abint\\anaconda3\\lib\\site-packages\\soccerdata\\whoscored.py#324\u001b\\\u001b[2m324\u001b[0m\u001b]8;;\u001b\\\n"
      ]
     },
     "metadata": {},
     "output_type": "display_data"
    },
    {
     "data": {
      "text/html": [
       "<pre style=\"white-space:pre;overflow-x:auto;line-height:normal;font-family:Menlo,'DejaVu Sans Mono',consolas,'Courier New',monospace\"><span style=\"color: #7fbfbf; text-decoration-color: #7fbfbf\">                    </span><span style=\"color: #000080; text-decoration-color: #000080\">INFO    </span> Scraping game schedule for Jumanne, Feb <span style=\"color: #008080; text-decoration-color: #008080; font-weight: bold\">23</span> <span style=\"color: #008080; text-decoration-color: #008080; font-weight: bold\">2010</span>                       <a href=\"file://C:\\Users\\abint\\anaconda3\\lib\\site-packages\\soccerdata\\whoscored.py\" target=\"_blank\"><span style=\"color: #7f7f7f; text-decoration-color: #7f7f7f\">whoscored.py</span></a><span style=\"color: #7f7f7f; text-decoration-color: #7f7f7f\">:</span><a href=\"file://C:\\Users\\abint\\anaconda3\\lib\\site-packages\\soccerdata\\whoscored.py#324\" target=\"_blank\"><span style=\"color: #7f7f7f; text-decoration-color: #7f7f7f\">324</span></a>\n",
       "</pre>\n"
      ],
      "text/plain": [
       "\u001b[2;36m                   \u001b[0m\u001b[2;36m \u001b[0m\u001b[34mINFO    \u001b[0m Scraping game schedule for Jumanne, Feb \u001b[1;36m23\u001b[0m \u001b[1;36m2010\u001b[0m                       \u001b]8;id=963465;file://C:\\Users\\abint\\anaconda3\\lib\\site-packages\\soccerdata\\whoscored.py\u001b\\\u001b[2mwhoscored.py\u001b[0m\u001b]8;;\u001b\\\u001b[2m:\u001b[0m\u001b]8;id=967170;file://C:\\Users\\abint\\anaconda3\\lib\\site-packages\\soccerdata\\whoscored.py#324\u001b\\\u001b[2m324\u001b[0m\u001b]8;;\u001b\\\n"
      ]
     },
     "metadata": {},
     "output_type": "display_data"
    },
    {
     "data": {
      "text/html": [
       "<pre style=\"white-space:pre;overflow-x:auto;line-height:normal;font-family:Menlo,'DejaVu Sans Mono',consolas,'Courier New',monospace\"><span style=\"color: #7fbfbf; text-decoration-color: #7fbfbf\">[09/08/23 16:26:41] </span><span style=\"color: #000080; text-decoration-color: #000080\">INFO    </span> Scraping game schedule for Jumamosi, Feb <span style=\"color: #008080; text-decoration-color: #008080; font-weight: bold\">27</span> <span style=\"color: #008080; text-decoration-color: #008080; font-weight: bold\">2010</span>                      <a href=\"file://C:\\Users\\abint\\anaconda3\\lib\\site-packages\\soccerdata\\whoscored.py\" target=\"_blank\"><span style=\"color: #7f7f7f; text-decoration-color: #7f7f7f\">whoscored.py</span></a><span style=\"color: #7f7f7f; text-decoration-color: #7f7f7f\">:</span><a href=\"file://C:\\Users\\abint\\anaconda3\\lib\\site-packages\\soccerdata\\whoscored.py#324\" target=\"_blank\"><span style=\"color: #7f7f7f; text-decoration-color: #7f7f7f\">324</span></a>\n",
       "</pre>\n"
      ],
      "text/plain": [
       "\u001b[2;36m[09/08/23 16:26:41]\u001b[0m\u001b[2;36m \u001b[0m\u001b[34mINFO    \u001b[0m Scraping game schedule for Jumamosi, Feb \u001b[1;36m27\u001b[0m \u001b[1;36m2010\u001b[0m                      \u001b]8;id=664979;file://C:\\Users\\abint\\anaconda3\\lib\\site-packages\\soccerdata\\whoscored.py\u001b\\\u001b[2mwhoscored.py\u001b[0m\u001b]8;;\u001b\\\u001b[2m:\u001b[0m\u001b]8;id=269645;file://C:\\Users\\abint\\anaconda3\\lib\\site-packages\\soccerdata\\whoscored.py#324\u001b\\\u001b[2m324\u001b[0m\u001b]8;;\u001b\\\n"
      ]
     },
     "metadata": {},
     "output_type": "display_data"
    },
    {
     "data": {
      "text/html": [
       "<pre style=\"white-space:pre;overflow-x:auto;line-height:normal;font-family:Menlo,'DejaVu Sans Mono',consolas,'Courier New',monospace\"><span style=\"color: #7fbfbf; text-decoration-color: #7fbfbf\">                    </span><span style=\"color: #000080; text-decoration-color: #000080\">INFO    </span> Scraping game schedule for Jumapili, Feb <span style=\"color: #008080; text-decoration-color: #008080; font-weight: bold\">28</span> <span style=\"color: #008080; text-decoration-color: #008080; font-weight: bold\">2010</span>                      <a href=\"file://C:\\Users\\abint\\anaconda3\\lib\\site-packages\\soccerdata\\whoscored.py\" target=\"_blank\"><span style=\"color: #7f7f7f; text-decoration-color: #7f7f7f\">whoscored.py</span></a><span style=\"color: #7f7f7f; text-decoration-color: #7f7f7f\">:</span><a href=\"file://C:\\Users\\abint\\anaconda3\\lib\\site-packages\\soccerdata\\whoscored.py#324\" target=\"_blank\"><span style=\"color: #7f7f7f; text-decoration-color: #7f7f7f\">324</span></a>\n",
       "</pre>\n"
      ],
      "text/plain": [
       "\u001b[2;36m                   \u001b[0m\u001b[2;36m \u001b[0m\u001b[34mINFO    \u001b[0m Scraping game schedule for Jumapili, Feb \u001b[1;36m28\u001b[0m \u001b[1;36m2010\u001b[0m                      \u001b]8;id=71972;file://C:\\Users\\abint\\anaconda3\\lib\\site-packages\\soccerdata\\whoscored.py\u001b\\\u001b[2mwhoscored.py\u001b[0m\u001b]8;;\u001b\\\u001b[2m:\u001b[0m\u001b]8;id=43982;file://C:\\Users\\abint\\anaconda3\\lib\\site-packages\\soccerdata\\whoscored.py#324\u001b\\\u001b[2m324\u001b[0m\u001b]8;;\u001b\\\n"
      ]
     },
     "metadata": {},
     "output_type": "display_data"
    },
    {
     "data": {
      "text/html": [
       "<pre style=\"white-space:pre;overflow-x:auto;line-height:normal;font-family:Menlo,'DejaVu Sans Mono',consolas,'Courier New',monospace\"><span style=\"color: #7fbfbf; text-decoration-color: #7fbfbf\">[09/08/23 16:26:47] </span><span style=\"color: #000080; text-decoration-color: #000080\">INFO    </span> Scraping game schedule for Jumanne, Jan <span style=\"color: #008080; text-decoration-color: #008080; font-weight: bold\">5</span> <span style=\"color: #008080; text-decoration-color: #008080; font-weight: bold\">2010</span>                        <a href=\"file://C:\\Users\\abint\\anaconda3\\lib\\site-packages\\soccerdata\\whoscored.py\" target=\"_blank\"><span style=\"color: #7f7f7f; text-decoration-color: #7f7f7f\">whoscored.py</span></a><span style=\"color: #7f7f7f; text-decoration-color: #7f7f7f\">:</span><a href=\"file://C:\\Users\\abint\\anaconda3\\lib\\site-packages\\soccerdata\\whoscored.py#324\" target=\"_blank\"><span style=\"color: #7f7f7f; text-decoration-color: #7f7f7f\">324</span></a>\n",
       "</pre>\n"
      ],
      "text/plain": [
       "\u001b[2;36m[09/08/23 16:26:47]\u001b[0m\u001b[2;36m \u001b[0m\u001b[34mINFO    \u001b[0m Scraping game schedule for Jumanne, Jan \u001b[1;36m5\u001b[0m \u001b[1;36m2010\u001b[0m                        \u001b]8;id=999646;file://C:\\Users\\abint\\anaconda3\\lib\\site-packages\\soccerdata\\whoscored.py\u001b\\\u001b[2mwhoscored.py\u001b[0m\u001b]8;;\u001b\\\u001b[2m:\u001b[0m\u001b]8;id=53466;file://C:\\Users\\abint\\anaconda3\\lib\\site-packages\\soccerdata\\whoscored.py#324\u001b\\\u001b[2m324\u001b[0m\u001b]8;;\u001b\\\n"
      ]
     },
     "metadata": {},
     "output_type": "display_data"
    },
    {
     "data": {
      "text/html": [
       "<pre style=\"white-space:pre;overflow-x:auto;line-height:normal;font-family:Menlo,'DejaVu Sans Mono',consolas,'Courier New',monospace\"><span style=\"color: #7fbfbf; text-decoration-color: #7fbfbf\">                    </span><span style=\"color: #000080; text-decoration-color: #000080\">INFO    </span> Scraping game schedule for Jumamosi, Jan <span style=\"color: #008080; text-decoration-color: #008080; font-weight: bold\">9</span> <span style=\"color: #008080; text-decoration-color: #008080; font-weight: bold\">2010</span>                       <a href=\"file://C:\\Users\\abint\\anaconda3\\lib\\site-packages\\soccerdata\\whoscored.py\" target=\"_blank\"><span style=\"color: #7f7f7f; text-decoration-color: #7f7f7f\">whoscored.py</span></a><span style=\"color: #7f7f7f; text-decoration-color: #7f7f7f\">:</span><a href=\"file://C:\\Users\\abint\\anaconda3\\lib\\site-packages\\soccerdata\\whoscored.py#324\" target=\"_blank\"><span style=\"color: #7f7f7f; text-decoration-color: #7f7f7f\">324</span></a>\n",
       "</pre>\n"
      ],
      "text/plain": [
       "\u001b[2;36m                   \u001b[0m\u001b[2;36m \u001b[0m\u001b[34mINFO    \u001b[0m Scraping game schedule for Jumamosi, Jan \u001b[1;36m9\u001b[0m \u001b[1;36m2010\u001b[0m                       \u001b]8;id=918329;file://C:\\Users\\abint\\anaconda3\\lib\\site-packages\\soccerdata\\whoscored.py\u001b\\\u001b[2mwhoscored.py\u001b[0m\u001b]8;;\u001b\\\u001b[2m:\u001b[0m\u001b]8;id=980263;file://C:\\Users\\abint\\anaconda3\\lib\\site-packages\\soccerdata\\whoscored.py#324\u001b\\\u001b[2m324\u001b[0m\u001b]8;;\u001b\\\n"
      ]
     },
     "metadata": {},
     "output_type": "display_data"
    },
    {
     "data": {
      "text/html": [
       "<pre style=\"white-space:pre;overflow-x:auto;line-height:normal;font-family:Menlo,'DejaVu Sans Mono',consolas,'Courier New',monospace\"><span style=\"color: #7fbfbf; text-decoration-color: #7fbfbf\">                    </span><span style=\"color: #000080; text-decoration-color: #000080\">INFO    </span> Scraping game schedule for Jumatatu, Jan <span style=\"color: #008080; text-decoration-color: #008080; font-weight: bold\">11</span> <span style=\"color: #008080; text-decoration-color: #008080; font-weight: bold\">2010</span>                      <a href=\"file://C:\\Users\\abint\\anaconda3\\lib\\site-packages\\soccerdata\\whoscored.py\" target=\"_blank\"><span style=\"color: #7f7f7f; text-decoration-color: #7f7f7f\">whoscored.py</span></a><span style=\"color: #7f7f7f; text-decoration-color: #7f7f7f\">:</span><a href=\"file://C:\\Users\\abint\\anaconda3\\lib\\site-packages\\soccerdata\\whoscored.py#324\" target=\"_blank\"><span style=\"color: #7f7f7f; text-decoration-color: #7f7f7f\">324</span></a>\n",
       "</pre>\n"
      ],
      "text/plain": [
       "\u001b[2;36m                   \u001b[0m\u001b[2;36m \u001b[0m\u001b[34mINFO    \u001b[0m Scraping game schedule for Jumatatu, Jan \u001b[1;36m11\u001b[0m \u001b[1;36m2010\u001b[0m                      \u001b]8;id=546424;file://C:\\Users\\abint\\anaconda3\\lib\\site-packages\\soccerdata\\whoscored.py\u001b\\\u001b[2mwhoscored.py\u001b[0m\u001b]8;;\u001b\\\u001b[2m:\u001b[0m\u001b]8;id=683238;file://C:\\Users\\abint\\anaconda3\\lib\\site-packages\\soccerdata\\whoscored.py#324\u001b\\\u001b[2m324\u001b[0m\u001b]8;;\u001b\\\n"
      ]
     },
     "metadata": {},
     "output_type": "display_data"
    },
    {
     "data": {
      "text/html": [
       "<pre style=\"white-space:pre;overflow-x:auto;line-height:normal;font-family:Menlo,'DejaVu Sans Mono',consolas,'Courier New',monospace\"><span style=\"color: #7fbfbf; text-decoration-color: #7fbfbf\">                    </span><span style=\"color: #000080; text-decoration-color: #000080\">INFO    </span> Scraping game schedule for Jumamosi, Jan <span style=\"color: #008080; text-decoration-color: #008080; font-weight: bold\">16</span> <span style=\"color: #008080; text-decoration-color: #008080; font-weight: bold\">2010</span>                      <a href=\"file://C:\\Users\\abint\\anaconda3\\lib\\site-packages\\soccerdata\\whoscored.py\" target=\"_blank\"><span style=\"color: #7f7f7f; text-decoration-color: #7f7f7f\">whoscored.py</span></a><span style=\"color: #7f7f7f; text-decoration-color: #7f7f7f\">:</span><a href=\"file://C:\\Users\\abint\\anaconda3\\lib\\site-packages\\soccerdata\\whoscored.py#324\" target=\"_blank\"><span style=\"color: #7f7f7f; text-decoration-color: #7f7f7f\">324</span></a>\n",
       "</pre>\n"
      ],
      "text/plain": [
       "\u001b[2;36m                   \u001b[0m\u001b[2;36m \u001b[0m\u001b[34mINFO    \u001b[0m Scraping game schedule for Jumamosi, Jan \u001b[1;36m16\u001b[0m \u001b[1;36m2010\u001b[0m                      \u001b]8;id=437826;file://C:\\Users\\abint\\anaconda3\\lib\\site-packages\\soccerdata\\whoscored.py\u001b\\\u001b[2mwhoscored.py\u001b[0m\u001b]8;;\u001b\\\u001b[2m:\u001b[0m\u001b]8;id=126246;file://C:\\Users\\abint\\anaconda3\\lib\\site-packages\\soccerdata\\whoscored.py#324\u001b\\\u001b[2m324\u001b[0m\u001b]8;;\u001b\\\n"
      ]
     },
     "metadata": {},
     "output_type": "display_data"
    },
    {
     "data": {
      "text/html": [
       "<pre style=\"white-space:pre;overflow-x:auto;line-height:normal;font-family:Menlo,'DejaVu Sans Mono',consolas,'Courier New',monospace\"><span style=\"color: #7fbfbf; text-decoration-color: #7fbfbf\">[09/08/23 16:26:48] </span><span style=\"color: #000080; text-decoration-color: #000080\">INFO    </span> Scraping game schedule for Jumapili, Jan <span style=\"color: #008080; text-decoration-color: #008080; font-weight: bold\">17</span> <span style=\"color: #008080; text-decoration-color: #008080; font-weight: bold\">2010</span>                      <a href=\"file://C:\\Users\\abint\\anaconda3\\lib\\site-packages\\soccerdata\\whoscored.py\" target=\"_blank\"><span style=\"color: #7f7f7f; text-decoration-color: #7f7f7f\">whoscored.py</span></a><span style=\"color: #7f7f7f; text-decoration-color: #7f7f7f\">:</span><a href=\"file://C:\\Users\\abint\\anaconda3\\lib\\site-packages\\soccerdata\\whoscored.py#324\" target=\"_blank\"><span style=\"color: #7f7f7f; text-decoration-color: #7f7f7f\">324</span></a>\n",
       "</pre>\n"
      ],
      "text/plain": [
       "\u001b[2;36m[09/08/23 16:26:48]\u001b[0m\u001b[2;36m \u001b[0m\u001b[34mINFO    \u001b[0m Scraping game schedule for Jumapili, Jan \u001b[1;36m17\u001b[0m \u001b[1;36m2010\u001b[0m                      \u001b]8;id=896365;file://C:\\Users\\abint\\anaconda3\\lib\\site-packages\\soccerdata\\whoscored.py\u001b\\\u001b[2mwhoscored.py\u001b[0m\u001b]8;;\u001b\\\u001b[2m:\u001b[0m\u001b]8;id=551852;file://C:\\Users\\abint\\anaconda3\\lib\\site-packages\\soccerdata\\whoscored.py#324\u001b\\\u001b[2m324\u001b[0m\u001b]8;;\u001b\\\n"
      ]
     },
     "metadata": {},
     "output_type": "display_data"
    },
    {
     "data": {
      "text/html": [
       "<pre style=\"white-space:pre;overflow-x:auto;line-height:normal;font-family:Menlo,'DejaVu Sans Mono',consolas,'Courier New',monospace\"><span style=\"color: #7fbfbf; text-decoration-color: #7fbfbf\">[09/08/23 16:26:49] </span><span style=\"color: #000080; text-decoration-color: #000080\">INFO    </span> Scraping game schedule for Jumatano, Jan <span style=\"color: #008080; text-decoration-color: #008080; font-weight: bold\">20</span> <span style=\"color: #008080; text-decoration-color: #008080; font-weight: bold\">2010</span>                      <a href=\"file://C:\\Users\\abint\\anaconda3\\lib\\site-packages\\soccerdata\\whoscored.py\" target=\"_blank\"><span style=\"color: #7f7f7f; text-decoration-color: #7f7f7f\">whoscored.py</span></a><span style=\"color: #7f7f7f; text-decoration-color: #7f7f7f\">:</span><a href=\"file://C:\\Users\\abint\\anaconda3\\lib\\site-packages\\soccerdata\\whoscored.py#324\" target=\"_blank\"><span style=\"color: #7f7f7f; text-decoration-color: #7f7f7f\">324</span></a>\n",
       "</pre>\n"
      ],
      "text/plain": [
       "\u001b[2;36m[09/08/23 16:26:49]\u001b[0m\u001b[2;36m \u001b[0m\u001b[34mINFO    \u001b[0m Scraping game schedule for Jumatano, Jan \u001b[1;36m20\u001b[0m \u001b[1;36m2010\u001b[0m                      \u001b]8;id=274226;file://C:\\Users\\abint\\anaconda3\\lib\\site-packages\\soccerdata\\whoscored.py\u001b\\\u001b[2mwhoscored.py\u001b[0m\u001b]8;;\u001b\\\u001b[2m:\u001b[0m\u001b]8;id=41651;file://C:\\Users\\abint\\anaconda3\\lib\\site-packages\\soccerdata\\whoscored.py#324\u001b\\\u001b[2m324\u001b[0m\u001b]8;;\u001b\\\n"
      ]
     },
     "metadata": {},
     "output_type": "display_data"
    },
    {
     "data": {
      "text/html": [
       "<pre style=\"white-space:pre;overflow-x:auto;line-height:normal;font-family:Menlo,'DejaVu Sans Mono',consolas,'Courier New',monospace\"><span style=\"color: #7fbfbf; text-decoration-color: #7fbfbf\">                    </span><span style=\"color: #000080; text-decoration-color: #000080\">INFO    </span> Scraping game schedule for Jumamosi, Jan <span style=\"color: #008080; text-decoration-color: #008080; font-weight: bold\">23</span> <span style=\"color: #008080; text-decoration-color: #008080; font-weight: bold\">2010</span>                      <a href=\"file://C:\\Users\\abint\\anaconda3\\lib\\site-packages\\soccerdata\\whoscored.py\" target=\"_blank\"><span style=\"color: #7f7f7f; text-decoration-color: #7f7f7f\">whoscored.py</span></a><span style=\"color: #7f7f7f; text-decoration-color: #7f7f7f\">:</span><a href=\"file://C:\\Users\\abint\\anaconda3\\lib\\site-packages\\soccerdata\\whoscored.py#324\" target=\"_blank\"><span style=\"color: #7f7f7f; text-decoration-color: #7f7f7f\">324</span></a>\n",
       "</pre>\n"
      ],
      "text/plain": [
       "\u001b[2;36m                   \u001b[0m\u001b[2;36m \u001b[0m\u001b[34mINFO    \u001b[0m Scraping game schedule for Jumamosi, Jan \u001b[1;36m23\u001b[0m \u001b[1;36m2010\u001b[0m                      \u001b]8;id=55402;file://C:\\Users\\abint\\anaconda3\\lib\\site-packages\\soccerdata\\whoscored.py\u001b\\\u001b[2mwhoscored.py\u001b[0m\u001b]8;;\u001b\\\u001b[2m:\u001b[0m\u001b]8;id=18297;file://C:\\Users\\abint\\anaconda3\\lib\\site-packages\\soccerdata\\whoscored.py#324\u001b\\\u001b[2m324\u001b[0m\u001b]8;;\u001b\\\n"
      ]
     },
     "metadata": {},
     "output_type": "display_data"
    },
    {
     "data": {
      "text/html": [
       "<pre style=\"white-space:pre;overflow-x:auto;line-height:normal;font-family:Menlo,'DejaVu Sans Mono',consolas,'Courier New',monospace\"><span style=\"color: #7fbfbf; text-decoration-color: #7fbfbf\">                    </span><span style=\"color: #000080; text-decoration-color: #000080\">INFO    </span> Scraping game schedule for Jumanne, Jan <span style=\"color: #008080; text-decoration-color: #008080; font-weight: bold\">26</span> <span style=\"color: #008080; text-decoration-color: #008080; font-weight: bold\">2010</span>                       <a href=\"file://C:\\Users\\abint\\anaconda3\\lib\\site-packages\\soccerdata\\whoscored.py\" target=\"_blank\"><span style=\"color: #7f7f7f; text-decoration-color: #7f7f7f\">whoscored.py</span></a><span style=\"color: #7f7f7f; text-decoration-color: #7f7f7f\">:</span><a href=\"file://C:\\Users\\abint\\anaconda3\\lib\\site-packages\\soccerdata\\whoscored.py#324\" target=\"_blank\"><span style=\"color: #7f7f7f; text-decoration-color: #7f7f7f\">324</span></a>\n",
       "</pre>\n"
      ],
      "text/plain": [
       "\u001b[2;36m                   \u001b[0m\u001b[2;36m \u001b[0m\u001b[34mINFO    \u001b[0m Scraping game schedule for Jumanne, Jan \u001b[1;36m26\u001b[0m \u001b[1;36m2010\u001b[0m                       \u001b]8;id=777353;file://C:\\Users\\abint\\anaconda3\\lib\\site-packages\\soccerdata\\whoscored.py\u001b\\\u001b[2mwhoscored.py\u001b[0m\u001b]8;;\u001b\\\u001b[2m:\u001b[0m\u001b]8;id=588349;file://C:\\Users\\abint\\anaconda3\\lib\\site-packages\\soccerdata\\whoscored.py#324\u001b\\\u001b[2m324\u001b[0m\u001b]8;;\u001b\\\n"
      ]
     },
     "metadata": {},
     "output_type": "display_data"
    },
    {
     "data": {
      "text/html": [
       "<pre style=\"white-space:pre;overflow-x:auto;line-height:normal;font-family:Menlo,'DejaVu Sans Mono',consolas,'Courier New',monospace\"><span style=\"color: #7fbfbf; text-decoration-color: #7fbfbf\">[09/08/23 16:26:50] </span><span style=\"color: #000080; text-decoration-color: #000080\">INFO    </span> Scraping game schedule for Jumatano, Jan <span style=\"color: #008080; text-decoration-color: #008080; font-weight: bold\">27</span> <span style=\"color: #008080; text-decoration-color: #008080; font-weight: bold\">2010</span>                      <a href=\"file://C:\\Users\\abint\\anaconda3\\lib\\site-packages\\soccerdata\\whoscored.py\" target=\"_blank\"><span style=\"color: #7f7f7f; text-decoration-color: #7f7f7f\">whoscored.py</span></a><span style=\"color: #7f7f7f; text-decoration-color: #7f7f7f\">:</span><a href=\"file://C:\\Users\\abint\\anaconda3\\lib\\site-packages\\soccerdata\\whoscored.py#324\" target=\"_blank\"><span style=\"color: #7f7f7f; text-decoration-color: #7f7f7f\">324</span></a>\n",
       "</pre>\n"
      ],
      "text/plain": [
       "\u001b[2;36m[09/08/23 16:26:50]\u001b[0m\u001b[2;36m \u001b[0m\u001b[34mINFO    \u001b[0m Scraping game schedule for Jumatano, Jan \u001b[1;36m27\u001b[0m \u001b[1;36m2010\u001b[0m                      \u001b]8;id=146768;file://C:\\Users\\abint\\anaconda3\\lib\\site-packages\\soccerdata\\whoscored.py\u001b\\\u001b[2mwhoscored.py\u001b[0m\u001b]8;;\u001b\\\u001b[2m:\u001b[0m\u001b]8;id=592437;file://C:\\Users\\abint\\anaconda3\\lib\\site-packages\\soccerdata\\whoscored.py#324\u001b\\\u001b[2m324\u001b[0m\u001b]8;;\u001b\\\n"
      ]
     },
     "metadata": {},
     "output_type": "display_data"
    },
    {
     "data": {
      "text/html": [
       "<pre style=\"white-space:pre;overflow-x:auto;line-height:normal;font-family:Menlo,'DejaVu Sans Mono',consolas,'Courier New',monospace\"><span style=\"color: #7fbfbf; text-decoration-color: #7fbfbf\">[09/08/23 16:26:51] </span><span style=\"color: #000080; text-decoration-color: #000080\">INFO    </span> Scraping game schedule for Jumamosi, Jan <span style=\"color: #008080; text-decoration-color: #008080; font-weight: bold\">30</span> <span style=\"color: #008080; text-decoration-color: #008080; font-weight: bold\">2010</span>                      <a href=\"file://C:\\Users\\abint\\anaconda3\\lib\\site-packages\\soccerdata\\whoscored.py\" target=\"_blank\"><span style=\"color: #7f7f7f; text-decoration-color: #7f7f7f\">whoscored.py</span></a><span style=\"color: #7f7f7f; text-decoration-color: #7f7f7f\">:</span><a href=\"file://C:\\Users\\abint\\anaconda3\\lib\\site-packages\\soccerdata\\whoscored.py#324\" target=\"_blank\"><span style=\"color: #7f7f7f; text-decoration-color: #7f7f7f\">324</span></a>\n",
       "</pre>\n"
      ],
      "text/plain": [
       "\u001b[2;36m[09/08/23 16:26:51]\u001b[0m\u001b[2;36m \u001b[0m\u001b[34mINFO    \u001b[0m Scraping game schedule for Jumamosi, Jan \u001b[1;36m30\u001b[0m \u001b[1;36m2010\u001b[0m                      \u001b]8;id=674618;file://C:\\Users\\abint\\anaconda3\\lib\\site-packages\\soccerdata\\whoscored.py\u001b\\\u001b[2mwhoscored.py\u001b[0m\u001b]8;;\u001b\\\u001b[2m:\u001b[0m\u001b]8;id=779018;file://C:\\Users\\abint\\anaconda3\\lib\\site-packages\\soccerdata\\whoscored.py#324\u001b\\\u001b[2m324\u001b[0m\u001b]8;;\u001b\\\n"
      ]
     },
     "metadata": {},
     "output_type": "display_data"
    },
    {
     "data": {
      "text/html": [
       "<pre style=\"white-space:pre;overflow-x:auto;line-height:normal;font-family:Menlo,'DejaVu Sans Mono',consolas,'Courier New',monospace\"><span style=\"color: #7fbfbf; text-decoration-color: #7fbfbf\">[09/08/23 16:26:52] </span><span style=\"color: #000080; text-decoration-color: #000080\">INFO    </span> Scraping game schedule for Jumapili, Jan <span style=\"color: #008080; text-decoration-color: #008080; font-weight: bold\">31</span> <span style=\"color: #008080; text-decoration-color: #008080; font-weight: bold\">2010</span>                      <a href=\"file://C:\\Users\\abint\\anaconda3\\lib\\site-packages\\soccerdata\\whoscored.py\" target=\"_blank\"><span style=\"color: #7f7f7f; text-decoration-color: #7f7f7f\">whoscored.py</span></a><span style=\"color: #7f7f7f; text-decoration-color: #7f7f7f\">:</span><a href=\"file://C:\\Users\\abint\\anaconda3\\lib\\site-packages\\soccerdata\\whoscored.py#324\" target=\"_blank\"><span style=\"color: #7f7f7f; text-decoration-color: #7f7f7f\">324</span></a>\n",
       "</pre>\n"
      ],
      "text/plain": [
       "\u001b[2;36m[09/08/23 16:26:52]\u001b[0m\u001b[2;36m \u001b[0m\u001b[34mINFO    \u001b[0m Scraping game schedule for Jumapili, Jan \u001b[1;36m31\u001b[0m \u001b[1;36m2010\u001b[0m                      \u001b]8;id=928192;file://C:\\Users\\abint\\anaconda3\\lib\\site-packages\\soccerdata\\whoscored.py\u001b\\\u001b[2mwhoscored.py\u001b[0m\u001b]8;;\u001b\\\u001b[2m:\u001b[0m\u001b]8;id=39682;file://C:\\Users\\abint\\anaconda3\\lib\\site-packages\\soccerdata\\whoscored.py#324\u001b\\\u001b[2m324\u001b[0m\u001b]8;;\u001b\\\n"
      ]
     },
     "metadata": {},
     "output_type": "display_data"
    },
    {
     "data": {
      "text/html": [
       "<pre style=\"white-space:pre;overflow-x:auto;line-height:normal;font-family:Menlo,'DejaVu Sans Mono',consolas,'Courier New',monospace\"><span style=\"color: #7fbfbf; text-decoration-color: #7fbfbf\">[09/08/23 16:26:57] </span><span style=\"color: #000080; text-decoration-color: #000080\">INFO    </span> Scraping game schedule for Jumamosi, Des <span style=\"color: #008080; text-decoration-color: #008080; font-weight: bold\">5</span> <span style=\"color: #008080; text-decoration-color: #008080; font-weight: bold\">2009</span>                       <a href=\"file://C:\\Users\\abint\\anaconda3\\lib\\site-packages\\soccerdata\\whoscored.py\" target=\"_blank\"><span style=\"color: #7f7f7f; text-decoration-color: #7f7f7f\">whoscored.py</span></a><span style=\"color: #7f7f7f; text-decoration-color: #7f7f7f\">:</span><a href=\"file://C:\\Users\\abint\\anaconda3\\lib\\site-packages\\soccerdata\\whoscored.py#324\" target=\"_blank\"><span style=\"color: #7f7f7f; text-decoration-color: #7f7f7f\">324</span></a>\n",
       "</pre>\n"
      ],
      "text/plain": [
       "\u001b[2;36m[09/08/23 16:26:57]\u001b[0m\u001b[2;36m \u001b[0m\u001b[34mINFO    \u001b[0m Scraping game schedule for Jumamosi, Des \u001b[1;36m5\u001b[0m \u001b[1;36m2009\u001b[0m                       \u001b]8;id=576572;file://C:\\Users\\abint\\anaconda3\\lib\\site-packages\\soccerdata\\whoscored.py\u001b\\\u001b[2mwhoscored.py\u001b[0m\u001b]8;;\u001b\\\u001b[2m:\u001b[0m\u001b]8;id=138378;file://C:\\Users\\abint\\anaconda3\\lib\\site-packages\\soccerdata\\whoscored.py#324\u001b\\\u001b[2m324\u001b[0m\u001b]8;;\u001b\\\n"
      ]
     },
     "metadata": {},
     "output_type": "display_data"
    },
    {
     "data": {
      "text/html": [
       "<pre style=\"white-space:pre;overflow-x:auto;line-height:normal;font-family:Menlo,'DejaVu Sans Mono',consolas,'Courier New',monospace\"><span style=\"color: #7fbfbf; text-decoration-color: #7fbfbf\">[09/08/23 16:26:59] </span><span style=\"color: #000080; text-decoration-color: #000080\">INFO    </span> Scraping game schedule for Jumapili, Des <span style=\"color: #008080; text-decoration-color: #008080; font-weight: bold\">6</span> <span style=\"color: #008080; text-decoration-color: #008080; font-weight: bold\">2009</span>                       <a href=\"file://C:\\Users\\abint\\anaconda3\\lib\\site-packages\\soccerdata\\whoscored.py\" target=\"_blank\"><span style=\"color: #7f7f7f; text-decoration-color: #7f7f7f\">whoscored.py</span></a><span style=\"color: #7f7f7f; text-decoration-color: #7f7f7f\">:</span><a href=\"file://C:\\Users\\abint\\anaconda3\\lib\\site-packages\\soccerdata\\whoscored.py#324\" target=\"_blank\"><span style=\"color: #7f7f7f; text-decoration-color: #7f7f7f\">324</span></a>\n",
       "</pre>\n"
      ],
      "text/plain": [
       "\u001b[2;36m[09/08/23 16:26:59]\u001b[0m\u001b[2;36m \u001b[0m\u001b[34mINFO    \u001b[0m Scraping game schedule for Jumapili, Des \u001b[1;36m6\u001b[0m \u001b[1;36m2009\u001b[0m                       \u001b]8;id=666585;file://C:\\Users\\abint\\anaconda3\\lib\\site-packages\\soccerdata\\whoscored.py\u001b\\\u001b[2mwhoscored.py\u001b[0m\u001b]8;;\u001b\\\u001b[2m:\u001b[0m\u001b]8;id=228199;file://C:\\Users\\abint\\anaconda3\\lib\\site-packages\\soccerdata\\whoscored.py#324\u001b\\\u001b[2m324\u001b[0m\u001b]8;;\u001b\\\n"
      ]
     },
     "metadata": {},
     "output_type": "display_data"
    },
    {
     "data": {
      "text/html": [
       "<pre style=\"white-space:pre;overflow-x:auto;line-height:normal;font-family:Menlo,'DejaVu Sans Mono',consolas,'Courier New',monospace\"><span style=\"color: #7fbfbf; text-decoration-color: #7fbfbf\">                    </span><span style=\"color: #000080; text-decoration-color: #000080\">INFO    </span> Scraping game schedule for Jumamosi, Des <span style=\"color: #008080; text-decoration-color: #008080; font-weight: bold\">12</span> <span style=\"color: #008080; text-decoration-color: #008080; font-weight: bold\">2009</span>                      <a href=\"file://C:\\Users\\abint\\anaconda3\\lib\\site-packages\\soccerdata\\whoscored.py\" target=\"_blank\"><span style=\"color: #7f7f7f; text-decoration-color: #7f7f7f\">whoscored.py</span></a><span style=\"color: #7f7f7f; text-decoration-color: #7f7f7f\">:</span><a href=\"file://C:\\Users\\abint\\anaconda3\\lib\\site-packages\\soccerdata\\whoscored.py#324\" target=\"_blank\"><span style=\"color: #7f7f7f; text-decoration-color: #7f7f7f\">324</span></a>\n",
       "</pre>\n"
      ],
      "text/plain": [
       "\u001b[2;36m                   \u001b[0m\u001b[2;36m \u001b[0m\u001b[34mINFO    \u001b[0m Scraping game schedule for Jumamosi, Des \u001b[1;36m12\u001b[0m \u001b[1;36m2009\u001b[0m                      \u001b]8;id=721351;file://C:\\Users\\abint\\anaconda3\\lib\\site-packages\\soccerdata\\whoscored.py\u001b\\\u001b[2mwhoscored.py\u001b[0m\u001b]8;;\u001b\\\u001b[2m:\u001b[0m\u001b]8;id=397636;file://C:\\Users\\abint\\anaconda3\\lib\\site-packages\\soccerdata\\whoscored.py#324\u001b\\\u001b[2m324\u001b[0m\u001b]8;;\u001b\\\n"
      ]
     },
     "metadata": {},
     "output_type": "display_data"
    },
    {
     "data": {
      "text/html": [
       "<pre style=\"white-space:pre;overflow-x:auto;line-height:normal;font-family:Menlo,'DejaVu Sans Mono',consolas,'Courier New',monospace\"><span style=\"color: #7fbfbf; text-decoration-color: #7fbfbf\">[09/08/23 16:27:00] </span><span style=\"color: #000080; text-decoration-color: #000080\">INFO    </span> Scraping game schedule for Jumapili, Des <span style=\"color: #008080; text-decoration-color: #008080; font-weight: bold\">13</span> <span style=\"color: #008080; text-decoration-color: #008080; font-weight: bold\">2009</span>                      <a href=\"file://C:\\Users\\abint\\anaconda3\\lib\\site-packages\\soccerdata\\whoscored.py\" target=\"_blank\"><span style=\"color: #7f7f7f; text-decoration-color: #7f7f7f\">whoscored.py</span></a><span style=\"color: #7f7f7f; text-decoration-color: #7f7f7f\">:</span><a href=\"file://C:\\Users\\abint\\anaconda3\\lib\\site-packages\\soccerdata\\whoscored.py#324\" target=\"_blank\"><span style=\"color: #7f7f7f; text-decoration-color: #7f7f7f\">324</span></a>\n",
       "</pre>\n"
      ],
      "text/plain": [
       "\u001b[2;36m[09/08/23 16:27:00]\u001b[0m\u001b[2;36m \u001b[0m\u001b[34mINFO    \u001b[0m Scraping game schedule for Jumapili, Des \u001b[1;36m13\u001b[0m \u001b[1;36m2009\u001b[0m                      \u001b]8;id=463116;file://C:\\Users\\abint\\anaconda3\\lib\\site-packages\\soccerdata\\whoscored.py\u001b\\\u001b[2mwhoscored.py\u001b[0m\u001b]8;;\u001b\\\u001b[2m:\u001b[0m\u001b]8;id=96329;file://C:\\Users\\abint\\anaconda3\\lib\\site-packages\\soccerdata\\whoscored.py#324\u001b\\\u001b[2m324\u001b[0m\u001b]8;;\u001b\\\n"
      ]
     },
     "metadata": {},
     "output_type": "display_data"
    },
    {
     "data": {
      "text/html": [
       "<pre style=\"white-space:pre;overflow-x:auto;line-height:normal;font-family:Menlo,'DejaVu Sans Mono',consolas,'Courier New',monospace\"><span style=\"color: #7fbfbf; text-decoration-color: #7fbfbf\">                    </span><span style=\"color: #000080; text-decoration-color: #000080\">INFO    </span> Scraping game schedule for Jumanne, Des <span style=\"color: #008080; text-decoration-color: #008080; font-weight: bold\">15</span> <span style=\"color: #008080; text-decoration-color: #008080; font-weight: bold\">2009</span>                       <a href=\"file://C:\\Users\\abint\\anaconda3\\lib\\site-packages\\soccerdata\\whoscored.py\" target=\"_blank\"><span style=\"color: #7f7f7f; text-decoration-color: #7f7f7f\">whoscored.py</span></a><span style=\"color: #7f7f7f; text-decoration-color: #7f7f7f\">:</span><a href=\"file://C:\\Users\\abint\\anaconda3\\lib\\site-packages\\soccerdata\\whoscored.py#324\" target=\"_blank\"><span style=\"color: #7f7f7f; text-decoration-color: #7f7f7f\">324</span></a>\n",
       "</pre>\n"
      ],
      "text/plain": [
       "\u001b[2;36m                   \u001b[0m\u001b[2;36m \u001b[0m\u001b[34mINFO    \u001b[0m Scraping game schedule for Jumanne, Des \u001b[1;36m15\u001b[0m \u001b[1;36m2009\u001b[0m                       \u001b]8;id=340573;file://C:\\Users\\abint\\anaconda3\\lib\\site-packages\\soccerdata\\whoscored.py\u001b\\\u001b[2mwhoscored.py\u001b[0m\u001b]8;;\u001b\\\u001b[2m:\u001b[0m\u001b]8;id=430635;file://C:\\Users\\abint\\anaconda3\\lib\\site-packages\\soccerdata\\whoscored.py#324\u001b\\\u001b[2m324\u001b[0m\u001b]8;;\u001b\\\n"
      ]
     },
     "metadata": {},
     "output_type": "display_data"
    },
    {
     "data": {
      "text/html": [
       "<pre style=\"white-space:pre;overflow-x:auto;line-height:normal;font-family:Menlo,'DejaVu Sans Mono',consolas,'Courier New',monospace\"><span style=\"color: #7fbfbf; text-decoration-color: #7fbfbf\">[09/08/23 16:27:01] </span><span style=\"color: #000080; text-decoration-color: #000080\">INFO    </span> Scraping game schedule for Jumatano, Des <span style=\"color: #008080; text-decoration-color: #008080; font-weight: bold\">16</span> <span style=\"color: #008080; text-decoration-color: #008080; font-weight: bold\">2009</span>                      <a href=\"file://C:\\Users\\abint\\anaconda3\\lib\\site-packages\\soccerdata\\whoscored.py\" target=\"_blank\"><span style=\"color: #7f7f7f; text-decoration-color: #7f7f7f\">whoscored.py</span></a><span style=\"color: #7f7f7f; text-decoration-color: #7f7f7f\">:</span><a href=\"file://C:\\Users\\abint\\anaconda3\\lib\\site-packages\\soccerdata\\whoscored.py#324\" target=\"_blank\"><span style=\"color: #7f7f7f; text-decoration-color: #7f7f7f\">324</span></a>\n",
       "</pre>\n"
      ],
      "text/plain": [
       "\u001b[2;36m[09/08/23 16:27:01]\u001b[0m\u001b[2;36m \u001b[0m\u001b[34mINFO    \u001b[0m Scraping game schedule for Jumatano, Des \u001b[1;36m16\u001b[0m \u001b[1;36m2009\u001b[0m                      \u001b]8;id=398941;file://C:\\Users\\abint\\anaconda3\\lib\\site-packages\\soccerdata\\whoscored.py\u001b\\\u001b[2mwhoscored.py\u001b[0m\u001b]8;;\u001b\\\u001b[2m:\u001b[0m\u001b]8;id=821601;file://C:\\Users\\abint\\anaconda3\\lib\\site-packages\\soccerdata\\whoscored.py#324\u001b\\\u001b[2m324\u001b[0m\u001b]8;;\u001b\\\n"
      ]
     },
     "metadata": {},
     "output_type": "display_data"
    },
    {
     "data": {
      "text/html": [
       "<pre style=\"white-space:pre;overflow-x:auto;line-height:normal;font-family:Menlo,'DejaVu Sans Mono',consolas,'Courier New',monospace\"><span style=\"color: #7fbfbf; text-decoration-color: #7fbfbf\">[09/08/23 16:27:02] </span><span style=\"color: #000080; text-decoration-color: #000080\">INFO    </span> Scraping game schedule for Jumamosi, Des <span style=\"color: #008080; text-decoration-color: #008080; font-weight: bold\">19</span> <span style=\"color: #008080; text-decoration-color: #008080; font-weight: bold\">2009</span>                      <a href=\"file://C:\\Users\\abint\\anaconda3\\lib\\site-packages\\soccerdata\\whoscored.py\" target=\"_blank\"><span style=\"color: #7f7f7f; text-decoration-color: #7f7f7f\">whoscored.py</span></a><span style=\"color: #7f7f7f; text-decoration-color: #7f7f7f\">:</span><a href=\"file://C:\\Users\\abint\\anaconda3\\lib\\site-packages\\soccerdata\\whoscored.py#324\" target=\"_blank\"><span style=\"color: #7f7f7f; text-decoration-color: #7f7f7f\">324</span></a>\n",
       "</pre>\n"
      ],
      "text/plain": [
       "\u001b[2;36m[09/08/23 16:27:02]\u001b[0m\u001b[2;36m \u001b[0m\u001b[34mINFO    \u001b[0m Scraping game schedule for Jumamosi, Des \u001b[1;36m19\u001b[0m \u001b[1;36m2009\u001b[0m                      \u001b]8;id=78771;file://C:\\Users\\abint\\anaconda3\\lib\\site-packages\\soccerdata\\whoscored.py\u001b\\\u001b[2mwhoscored.py\u001b[0m\u001b]8;;\u001b\\\u001b[2m:\u001b[0m\u001b]8;id=764533;file://C:\\Users\\abint\\anaconda3\\lib\\site-packages\\soccerdata\\whoscored.py#324\u001b\\\u001b[2m324\u001b[0m\u001b]8;;\u001b\\\n"
      ]
     },
     "metadata": {},
     "output_type": "display_data"
    },
    {
     "data": {
      "text/html": [
       "<pre style=\"white-space:pre;overflow-x:auto;line-height:normal;font-family:Menlo,'DejaVu Sans Mono',consolas,'Courier New',monospace\"><span style=\"color: #7fbfbf; text-decoration-color: #7fbfbf\">                    </span><span style=\"color: #000080; text-decoration-color: #000080\">INFO    </span> Scraping game schedule for Jumapili, Des <span style=\"color: #008080; text-decoration-color: #008080; font-weight: bold\">20</span> <span style=\"color: #008080; text-decoration-color: #008080; font-weight: bold\">2009</span>                      <a href=\"file://C:\\Users\\abint\\anaconda3\\lib\\site-packages\\soccerdata\\whoscored.py\" target=\"_blank\"><span style=\"color: #7f7f7f; text-decoration-color: #7f7f7f\">whoscored.py</span></a><span style=\"color: #7f7f7f; text-decoration-color: #7f7f7f\">:</span><a href=\"file://C:\\Users\\abint\\anaconda3\\lib\\site-packages\\soccerdata\\whoscored.py#324\" target=\"_blank\"><span style=\"color: #7f7f7f; text-decoration-color: #7f7f7f\">324</span></a>\n",
       "</pre>\n"
      ],
      "text/plain": [
       "\u001b[2;36m                   \u001b[0m\u001b[2;36m \u001b[0m\u001b[34mINFO    \u001b[0m Scraping game schedule for Jumapili, Des \u001b[1;36m20\u001b[0m \u001b[1;36m2009\u001b[0m                      \u001b]8;id=732070;file://C:\\Users\\abint\\anaconda3\\lib\\site-packages\\soccerdata\\whoscored.py\u001b\\\u001b[2mwhoscored.py\u001b[0m\u001b]8;;\u001b\\\u001b[2m:\u001b[0m\u001b]8;id=446280;file://C:\\Users\\abint\\anaconda3\\lib\\site-packages\\soccerdata\\whoscored.py#324\u001b\\\u001b[2m324\u001b[0m\u001b]8;;\u001b\\\n"
      ]
     },
     "metadata": {},
     "output_type": "display_data"
    },
    {
     "data": {
      "text/html": [
       "<pre style=\"white-space:pre;overflow-x:auto;line-height:normal;font-family:Menlo,'DejaVu Sans Mono',consolas,'Courier New',monospace\"><span style=\"color: #7fbfbf; text-decoration-color: #7fbfbf\">[09/08/23 16:27:03] </span><span style=\"color: #000080; text-decoration-color: #000080\">INFO    </span> Scraping game schedule for Jumamosi, Des <span style=\"color: #008080; text-decoration-color: #008080; font-weight: bold\">26</span> <span style=\"color: #008080; text-decoration-color: #008080; font-weight: bold\">2009</span>                      <a href=\"file://C:\\Users\\abint\\anaconda3\\lib\\site-packages\\soccerdata\\whoscored.py\" target=\"_blank\"><span style=\"color: #7f7f7f; text-decoration-color: #7f7f7f\">whoscored.py</span></a><span style=\"color: #7f7f7f; text-decoration-color: #7f7f7f\">:</span><a href=\"file://C:\\Users\\abint\\anaconda3\\lib\\site-packages\\soccerdata\\whoscored.py#324\" target=\"_blank\"><span style=\"color: #7f7f7f; text-decoration-color: #7f7f7f\">324</span></a>\n",
       "</pre>\n"
      ],
      "text/plain": [
       "\u001b[2;36m[09/08/23 16:27:03]\u001b[0m\u001b[2;36m \u001b[0m\u001b[34mINFO    \u001b[0m Scraping game schedule for Jumamosi, Des \u001b[1;36m26\u001b[0m \u001b[1;36m2009\u001b[0m                      \u001b]8;id=306889;file://C:\\Users\\abint\\anaconda3\\lib\\site-packages\\soccerdata\\whoscored.py\u001b\\\u001b[2mwhoscored.py\u001b[0m\u001b]8;;\u001b\\\u001b[2m:\u001b[0m\u001b]8;id=532379;file://C:\\Users\\abint\\anaconda3\\lib\\site-packages\\soccerdata\\whoscored.py#324\u001b\\\u001b[2m324\u001b[0m\u001b]8;;\u001b\\\n"
      ]
     },
     "metadata": {},
     "output_type": "display_data"
    },
    {
     "data": {
      "text/html": [
       "<pre style=\"white-space:pre;overflow-x:auto;line-height:normal;font-family:Menlo,'DejaVu Sans Mono',consolas,'Courier New',monospace\"><span style=\"color: #7fbfbf; text-decoration-color: #7fbfbf\">[09/08/23 16:27:04] </span><span style=\"color: #000080; text-decoration-color: #000080\">INFO    </span> Scraping game schedule for Jumapili, Des <span style=\"color: #008080; text-decoration-color: #008080; font-weight: bold\">27</span> <span style=\"color: #008080; text-decoration-color: #008080; font-weight: bold\">2009</span>                      <a href=\"file://C:\\Users\\abint\\anaconda3\\lib\\site-packages\\soccerdata\\whoscored.py\" target=\"_blank\"><span style=\"color: #7f7f7f; text-decoration-color: #7f7f7f\">whoscored.py</span></a><span style=\"color: #7f7f7f; text-decoration-color: #7f7f7f\">:</span><a href=\"file://C:\\Users\\abint\\anaconda3\\lib\\site-packages\\soccerdata\\whoscored.py#324\" target=\"_blank\"><span style=\"color: #7f7f7f; text-decoration-color: #7f7f7f\">324</span></a>\n",
       "</pre>\n"
      ],
      "text/plain": [
       "\u001b[2;36m[09/08/23 16:27:04]\u001b[0m\u001b[2;36m \u001b[0m\u001b[34mINFO    \u001b[0m Scraping game schedule for Jumapili, Des \u001b[1;36m27\u001b[0m \u001b[1;36m2009\u001b[0m                      \u001b]8;id=785232;file://C:\\Users\\abint\\anaconda3\\lib\\site-packages\\soccerdata\\whoscored.py\u001b\\\u001b[2mwhoscored.py\u001b[0m\u001b]8;;\u001b\\\u001b[2m:\u001b[0m\u001b]8;id=547493;file://C:\\Users\\abint\\anaconda3\\lib\\site-packages\\soccerdata\\whoscored.py#324\u001b\\\u001b[2m324\u001b[0m\u001b]8;;\u001b\\\n"
      ]
     },
     "metadata": {},
     "output_type": "display_data"
    },
    {
     "data": {
      "text/html": [
       "<pre style=\"white-space:pre;overflow-x:auto;line-height:normal;font-family:Menlo,'DejaVu Sans Mono',consolas,'Courier New',monospace\"><span style=\"color: #7fbfbf; text-decoration-color: #7fbfbf\">                    </span><span style=\"color: #000080; text-decoration-color: #000080\">INFO    </span> Scraping game schedule for Jumatatu, Des <span style=\"color: #008080; text-decoration-color: #008080; font-weight: bold\">28</span> <span style=\"color: #008080; text-decoration-color: #008080; font-weight: bold\">2009</span>                      <a href=\"file://C:\\Users\\abint\\anaconda3\\lib\\site-packages\\soccerdata\\whoscored.py\" target=\"_blank\"><span style=\"color: #7f7f7f; text-decoration-color: #7f7f7f\">whoscored.py</span></a><span style=\"color: #7f7f7f; text-decoration-color: #7f7f7f\">:</span><a href=\"file://C:\\Users\\abint\\anaconda3\\lib\\site-packages\\soccerdata\\whoscored.py#324\" target=\"_blank\"><span style=\"color: #7f7f7f; text-decoration-color: #7f7f7f\">324</span></a>\n",
       "</pre>\n"
      ],
      "text/plain": [
       "\u001b[2;36m                   \u001b[0m\u001b[2;36m \u001b[0m\u001b[34mINFO    \u001b[0m Scraping game schedule for Jumatatu, Des \u001b[1;36m28\u001b[0m \u001b[1;36m2009\u001b[0m                      \u001b]8;id=936725;file://C:\\Users\\abint\\anaconda3\\lib\\site-packages\\soccerdata\\whoscored.py\u001b\\\u001b[2mwhoscored.py\u001b[0m\u001b]8;;\u001b\\\u001b[2m:\u001b[0m\u001b]8;id=160329;file://C:\\Users\\abint\\anaconda3\\lib\\site-packages\\soccerdata\\whoscored.py#324\u001b\\\u001b[2m324\u001b[0m\u001b]8;;\u001b\\\n"
      ]
     },
     "metadata": {},
     "output_type": "display_data"
    },
    {
     "data": {
      "text/html": [
       "<pre style=\"white-space:pre;overflow-x:auto;line-height:normal;font-family:Menlo,'DejaVu Sans Mono',consolas,'Courier New',monospace\"><span style=\"color: #7fbfbf; text-decoration-color: #7fbfbf\">[09/08/23 16:27:05] </span><span style=\"color: #000080; text-decoration-color: #000080\">INFO    </span> Scraping game schedule for Jumanne, Des <span style=\"color: #008080; text-decoration-color: #008080; font-weight: bold\">29</span> <span style=\"color: #008080; text-decoration-color: #008080; font-weight: bold\">2009</span>                       <a href=\"file://C:\\Users\\abint\\anaconda3\\lib\\site-packages\\soccerdata\\whoscored.py\" target=\"_blank\"><span style=\"color: #7f7f7f; text-decoration-color: #7f7f7f\">whoscored.py</span></a><span style=\"color: #7f7f7f; text-decoration-color: #7f7f7f\">:</span><a href=\"file://C:\\Users\\abint\\anaconda3\\lib\\site-packages\\soccerdata\\whoscored.py#324\" target=\"_blank\"><span style=\"color: #7f7f7f; text-decoration-color: #7f7f7f\">324</span></a>\n",
       "</pre>\n"
      ],
      "text/plain": [
       "\u001b[2;36m[09/08/23 16:27:05]\u001b[0m\u001b[2;36m \u001b[0m\u001b[34mINFO    \u001b[0m Scraping game schedule for Jumanne, Des \u001b[1;36m29\u001b[0m \u001b[1;36m2009\u001b[0m                       \u001b]8;id=702383;file://C:\\Users\\abint\\anaconda3\\lib\\site-packages\\soccerdata\\whoscored.py\u001b\\\u001b[2mwhoscored.py\u001b[0m\u001b]8;;\u001b\\\u001b[2m:\u001b[0m\u001b]8;id=19830;file://C:\\Users\\abint\\anaconda3\\lib\\site-packages\\soccerdata\\whoscored.py#324\u001b\\\u001b[2m324\u001b[0m\u001b]8;;\u001b\\\n"
      ]
     },
     "metadata": {},
     "output_type": "display_data"
    },
    {
     "data": {
      "text/html": [
       "<pre style=\"white-space:pre;overflow-x:auto;line-height:normal;font-family:Menlo,'DejaVu Sans Mono',consolas,'Courier New',monospace\"><span style=\"color: #7fbfbf; text-decoration-color: #7fbfbf\">                    </span><span style=\"color: #000080; text-decoration-color: #000080\">INFO    </span> Scraping game schedule for Jumatano, Des <span style=\"color: #008080; text-decoration-color: #008080; font-weight: bold\">30</span> <span style=\"color: #008080; text-decoration-color: #008080; font-weight: bold\">2009</span>                      <a href=\"file://C:\\Users\\abint\\anaconda3\\lib\\site-packages\\soccerdata\\whoscored.py\" target=\"_blank\"><span style=\"color: #7f7f7f; text-decoration-color: #7f7f7f\">whoscored.py</span></a><span style=\"color: #7f7f7f; text-decoration-color: #7f7f7f\">:</span><a href=\"file://C:\\Users\\abint\\anaconda3\\lib\\site-packages\\soccerdata\\whoscored.py#324\" target=\"_blank\"><span style=\"color: #7f7f7f; text-decoration-color: #7f7f7f\">324</span></a>\n",
       "</pre>\n"
      ],
      "text/plain": [
       "\u001b[2;36m                   \u001b[0m\u001b[2;36m \u001b[0m\u001b[34mINFO    \u001b[0m Scraping game schedule for Jumatano, Des \u001b[1;36m30\u001b[0m \u001b[1;36m2009\u001b[0m                      \u001b]8;id=546568;file://C:\\Users\\abint\\anaconda3\\lib\\site-packages\\soccerdata\\whoscored.py\u001b\\\u001b[2mwhoscored.py\u001b[0m\u001b]8;;\u001b\\\u001b[2m:\u001b[0m\u001b]8;id=964925;file://C:\\Users\\abint\\anaconda3\\lib\\site-packages\\soccerdata\\whoscored.py#324\u001b\\\u001b[2m324\u001b[0m\u001b]8;;\u001b\\\n"
      ]
     },
     "metadata": {},
     "output_type": "display_data"
    }
   ],
   "source": [
    "for comp in season:\n",
    "    comp_dir = f\"C:/Users/abint/Football Analysis/Data/{league}_{comp}\"\n",
    "    data_dir = f\"C:/Users/abint/Football Analysis/Data/{league}_{comp}/event_data\"\n",
    "    if not os.path.exists(comp_dir):\n",
    "        os.mkdir(comp_dir)\n",
    "    \n",
    "    if not os.path.exists(data_dir):\n",
    "        os.mkdir(data_dir)\n",
    "\n",
    "    os.chdir(comp_dir)\n",
    "\n",
    "    ws = sd.WhoScored(leagues=league, seasons=comp) \n",
    "    league_schedule = ws.read_schedule()\n",
    "    game_ids = league_schedule['game_id'].unique().tolist()\n",
    "    for i in game_ids:\n",
    "        try:\n",
    "            events = ws.read_events(match_id=i)\n",
    "            df = events.copy()\n",
    "            col_names = ['league','season','game','id'] + df.columns.to_list()\n",
    "            os.chdir(r'C:\\Users\\abint\\Football Analysis\\Data\\ENG-Premier League_23-24\\delete_shots')\n",
    "            df.to_csv('x.csv')\n",
    "            new_df = pd.read_csv('x.csv')\n",
    "            new_df = new_df.iloc[2:,:]\n",
    "            new_df = new_df.reset_index(drop=True)\n",
    "            new_df.columns = col_names\n",
    "            season = new_df['season'].unique()[0]\n",
    "            league = new_df['league'].unique()[0]\n",
    "            game = new_df['game'].unique()[0]\n",
    "            os.chdir(data_dir)\n",
    "            new_df.to_csv(f\"{league}_{season}_{game}.csv\")\n",
    "        except:\n",
    "            continue\n",
    "        "
   ]
  },
  {
   "cell_type": "code",
   "execution_count": null,
   "id": "972ca46f",
   "metadata": {},
   "outputs": [],
   "source": [
    "# ws = sd.WhoScored(leagues=league, seasons=season) "
   ]
  },
  {
   "cell_type": "code",
   "execution_count": null,
   "id": "c1b1d329",
   "metadata": {
    "scrolled": true
   },
   "outputs": [],
   "source": [
    "# league_schedule = ws.read_schedule()\n",
    "# #on_date_df = league_schedule[(league_schedule['date']> date_from) & (league_schedule['date']< date_till)]\n"
   ]
  },
  {
   "cell_type": "code",
   "execution_count": null,
   "id": "c5ab8a74",
   "metadata": {},
   "outputs": [],
   "source": [
    "# league_schedule\n"
   ]
  },
  {
   "cell_type": "code",
   "execution_count": null,
   "id": "d4c93264",
   "metadata": {},
   "outputs": [],
   "source": [
    "# league_schedule = league_schedule[(league_schedule['date']>=date_from) & (league_schedule['date']<date_till)]"
   ]
  },
  {
   "cell_type": "code",
   "execution_count": null,
   "id": "03873588",
   "metadata": {},
   "outputs": [],
   "source": [
    "# game_ids = league_schedule['game_id'].unique().tolist()\n",
    "# #game_ids = list(filter(lambda x : not pd.isna(x), game_ids))"
   ]
  },
  {
   "cell_type": "code",
   "execution_count": null,
   "id": "bf536db7",
   "metadata": {},
   "outputs": [],
   "source": [
    "# len(game_ids)"
   ]
  },
  {
   "cell_type": "code",
   "execution_count": null,
   "id": "274d6eb2",
   "metadata": {
    "scrolled": true
   },
   "outputs": [],
   "source": [
    "# for i in game_ids:\n",
    "#     try:\n",
    "#         events = ws.read_events(match_id=i)\n",
    "#         df = events.copy()\n",
    "#         col_names = ['league','season','game','id'] + df.columns.to_list()\n",
    "#         os.chdir(r'C:\\Users\\abint\\Football Analysis\\Data\\ENG-Premier League_23-24\\delete_shots')\n",
    "#         df.to_csv('x.csv')\n",
    "#         new_df = pd.read_csv('x.csv')\n",
    "#         new_df = new_df.iloc[2:,:]\n",
    "#         new_df = new_df.reset_index(drop=True)\n",
    "#         new_df.columns = col_names\n",
    "#         season = new_df['season'].unique()[0]\n",
    "#         league = new_df['league'].unique()[0]\n",
    "#         game = new_df['game'].unique()[0]\n",
    "#         os.chdir(data_dir)\n",
    "#         new_df.to_csv(f\"{league}_{season}_{game}.csv\")\n",
    "#     except:\n",
    "#         continue\n",
    "        \n",
    "  "
   ]
  },
  {
   "cell_type": "code",
   "execution_count": null,
   "id": "142f7dd2",
   "metadata": {},
   "outputs": [],
   "source": [
    "# for i in game_ids:\n",
    "#     events = ws.read_events(match_id=i)\n",
    "#     df = events.copy()\n",
    "#     df_first = df[df['period']=='FirstHalf']\n",
    "#     df_first = df_first.reset_index(drop=True)\n",
    "#     df_first['min_sec'] = df_first['minute']*60 + df_first['second']\n",
    "#     df_first = df_first.sort_values(by='min_sec',ascending=True).reset_index(drop=True)\n",
    "#     df_second = df[df['period']=='SecondHalf']\n",
    "#     df_second = df_second.reset_index(drop=True)\n",
    "#     df_second['min_sec'] = df_second['minute']*60 + df_second['second']\n",
    "#     df_second = df_second.sort_values(by='min_sec',ascending=True).reset_index(drop=True)\n",
    "#     df_game = pd.concat([df_first,df_second],axis=0,ignore_index=True)\n",
    "#     teams = df_game['team'].unique().tolist()\n",
    "#     team1 = teams[0]\n",
    "#     team2 = teams[1]\n",
    "#     df_game.to_csv(f\"{league}_{season}_{team1}_vs_{team2}.csv\")\n"
   ]
  },
  {
   "cell_type": "code",
   "execution_count": null,
   "id": "1d6e444d",
   "metadata": {},
   "outputs": [],
   "source": []
  },
  {
   "cell_type": "code",
   "execution_count": null,
   "id": "565ef235",
   "metadata": {},
   "outputs": [],
   "source": []
  }
 ],
 "metadata": {
  "kernelspec": {
   "display_name": "Python 3 (ipykernel)",
   "language": "python",
   "name": "python3"
  },
  "language_info": {
   "codemirror_mode": {
    "name": "ipython",
    "version": 3
   },
   "file_extension": ".py",
   "mimetype": "text/x-python",
   "name": "python",
   "nbconvert_exporter": "python",
   "pygments_lexer": "ipython3",
   "version": "3.11.5"
  }
 },
 "nbformat": 4,
 "nbformat_minor": 5
}
