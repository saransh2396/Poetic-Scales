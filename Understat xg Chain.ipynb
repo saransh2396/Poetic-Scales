{
 "cells": [
  {
   "cell_type": "code",
   "execution_count": 1,
   "metadata": {},
   "outputs": [],
   "source": [
    "#Load Libraries\n",
    "import json\n",
    "import pandas as pd\n",
    "from bs4 import BeautifulSoup\n",
    "from urllib.request import urlopen\n",
    "import os\n",
    "import warnings\n",
    "warnings.filterwarnings('ignore')"
   ]
  },
  {
   "cell_type": "code",
   "execution_count": 2,
   "metadata": {},
   "outputs": [],
   "source": [
    "# team = 'Arsenal'"
   ]
  },
  {
   "cell_type": "code",
   "execution_count": 3,
   "metadata": {},
   "outputs": [],
   "source": [
    "# data_dir = f\"D:\\Personal\\Football Analysis\\Event Data\\Team Analysis\\{team}\\{team}_stats\\data\""
   ]
  },
  {
   "cell_type": "code",
   "execution_count": 4,
   "metadata": {},
   "outputs": [],
   "source": [
    "# if not os.path.exists(data_dir):\n",
    "#     os.mkdir(data_dir)"
   ]
  },
  {
   "cell_type": "code",
   "execution_count": 5,
   "metadata": {},
   "outputs": [],
   "source": [
    "os.chdir(r'D:\\Personal\\Football Analysis\\Event Data\\Team Analysis\\EPL_23_24\\data')"
   ]
  },
  {
   "cell_type": "code",
   "execution_count": 6,
   "metadata": {},
   "outputs": [],
   "source": [
    "def scrape_xGbuildup(scrape_url):\n",
    "    page_connect = urlopen(scrape_url)\n",
    "    page_html = BeautifulSoup(page_connect,\"html.parser\")\n",
    "    json_Raw_string = page_html.findAll(name='script')[3].string\n",
    "    json_Raw_string\n",
    "    start_ind = json_Raw_string.index('\\\\')\n",
    "    stop_ind = json_Raw_string.index(\"')\")\n",
    "    json_data = json_Raw_string[start_ind:stop_ind]\n",
    "    json_data=json_data.encode(\"utf8\").decode(\"unicode_escape\")\n",
    "    data = json.loads(json_data)\n",
    "    final_json = pd.json_normalize(data)\n",
    "    final_json=final_json.apply(pd.to_numeric, errors=\"ignore\")\n",
    "    final_json_player = final_json.copy()\n",
    "    final_json_player = final_json_player[['time','player_name','team_title', 'xGChain', 'xGBuildup']]\n",
    "    final_df = final_json[['team_title', 'xGChain', 'xGBuildup']]\n",
    "    #selecting certain rows which has , in it in the team column\n",
    "    remove = final_df[final_df['team_title'].str.contains(',')].index\n",
    "    #removing those rows\n",
    "    final_df.drop(remove, inplace = True)\n",
    "    final = final_df.groupby(by=[\"team_title\"]).sum().reset_index()\n",
    "    #os.chdir(data_dir)\n",
    "    final.to_csv('xgbuildup.csv')\n",
    "    final_json_player.to_csv('xG Buildup player.csv')"
   ]
  },
  {
   "cell_type": "code",
   "execution_count": 7,
   "metadata": {},
   "outputs": [],
   "source": [
    "scrape_url = \"https://understat.com/league/EPL\"\n",
    "scrape_xGbuildup(scrape_url)"
   ]
  },
  {
   "cell_type": "code",
   "execution_count": null,
   "metadata": {},
   "outputs": [],
   "source": []
  }
 ],
 "metadata": {
  "kernelspec": {
   "display_name": "Python 3 (ipykernel)",
   "language": "python",
   "name": "python3"
  },
  "language_info": {
   "codemirror_mode": {
    "name": "ipython",
    "version": 3
   },
   "file_extension": ".py",
   "mimetype": "text/x-python",
   "name": "python",
   "nbconvert_exporter": "python",
   "pygments_lexer": "ipython3",
   "version": "3.9.12"
  }
 },
 "nbformat": 4,
 "nbformat_minor": 4
}
